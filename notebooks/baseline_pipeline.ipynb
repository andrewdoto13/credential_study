{
 "cells": [
  {
   "cell_type": "markdown",
   "metadata": {},
   "source": [
    "## Import Libraries"
   ]
  },
  {
   "cell_type": "code",
   "execution_count": 9,
   "metadata": {},
   "outputs": [
    {
     "name": "stdout",
     "output_type": "stream",
     "text": [
      "1.0.2\n"
     ]
    }
   ],
   "source": [
    "import numpy as np\n",
    "import pandas as pd\n",
    "import re\n",
    "\n",
    "import sklearn\n",
    "from sklearn.feature_extraction.text import TfidfVectorizer\n",
    "from sklearn.pipeline import Pipeline\n",
    "from sklearn.linear_model import LogisticRegression\n",
    "from sklearn.tree import DecisionTreeClassifier\n",
    "from sklearn.ensemble import RandomForestClassifier\n",
    "from sklearn.naive_bayes import MultinomialNB\n",
    "from sklearn.preprocessing import LabelEncoder, StandardScaler\n",
    "from sklearn.model_selection import train_test_split, cross_validate\n",
    "\n",
    "np.random.seed(13)\n",
    "print(sklearn.__version__)"
   ]
  },
  {
   "cell_type": "markdown",
   "metadata": {},
   "source": [
    "## Import data"
   ]
  },
  {
   "cell_type": "code",
   "execution_count": 2,
   "metadata": {},
   "outputs": [],
   "source": [
    "df = pd.read_csv(\"../data/JFP Credential Data - ProQuest v2.csv\")"
   ]
  },
  {
   "cell_type": "markdown",
   "metadata": {},
   "source": [
    "## Extract Credentials"
   ]
  },
  {
   "cell_type": "code",
   "execution_count": 3,
   "metadata": {},
   "outputs": [],
   "source": [
    "df[\"Credentials\"] = (df\n",
    "                     .Authors\n",
    "                     .apply(lambda x: re.findall(r\"(CFP|PhD|CFA|JD|CPA|CLU|ChFC|LLM|AIF|CRC)\", str(x)))\n",
    "                     .apply(lambda x: np.nan if len(x) == 0 else x)\n",
    "                     )"
   ]
  },
  {
   "cell_type": "markdown",
   "metadata": {},
   "source": [
    "## Group Credentials into target groups"
   ]
  },
  {
   "cell_type": "code",
   "execution_count": 4,
   "metadata": {},
   "outputs": [],
   "source": [
    "def target_grouping(x):\n",
    "    if type(x) != list:\n",
    "        return np.nan\n",
    "    elif set(x) == {\"PhD\"}:\n",
    "        return \"Academic\"\n",
    "    elif \"PhD\" in x and len(set(x)) == 2:\n",
    "        return \"Both\"\n",
    "    else:\n",
    "        return \"Practitioner\"\n",
    "\n",
    "df[\"target_grouping\"] = df.Credentials.apply(target_grouping)"
   ]
  },
  {
   "cell_type": "markdown",
   "metadata": {},
   "source": [
    "## Drop nulls"
   ]
  },
  {
   "cell_type": "code",
   "execution_count": 5,
   "metadata": {},
   "outputs": [],
   "source": [
    "df = df.dropna().reset_index(drop=True)"
   ]
  },
  {
   "cell_type": "code",
   "execution_count": 6,
   "metadata": {},
   "outputs": [
    {
     "data": {
      "text/html": [
       "<div>\n",
       "<style scoped>\n",
       "    .dataframe tbody tr th:only-of-type {\n",
       "        vertical-align: middle;\n",
       "    }\n",
       "\n",
       "    .dataframe tbody tr th {\n",
       "        vertical-align: top;\n",
       "    }\n",
       "\n",
       "    .dataframe thead th {\n",
       "        text-align: right;\n",
       "    }\n",
       "</style>\n",
       "<table border=\"1\" class=\"dataframe\">\n",
       "  <thead>\n",
       "    <tr style=\"text-align: right;\">\n",
       "      <th></th>\n",
       "      <th>Journal</th>\n",
       "      <th>Title</th>\n",
       "      <th>Abstract</th>\n",
       "      <th>Authors</th>\n",
       "      <th>Tax_Title_Count</th>\n",
       "      <th>Tax_Title_Binary</th>\n",
       "      <th>Tax_Abstract_Count</th>\n",
       "      <th>Tax_Abstract_Binary</th>\n",
       "      <th>Tax_Total_Count</th>\n",
       "      <th>Tax_Total_Binary</th>\n",
       "      <th>...</th>\n",
       "      <th>LLM_Count</th>\n",
       "      <th>LLM_Binary</th>\n",
       "      <th>AIF_Count</th>\n",
       "      <th>AIF_Binary</th>\n",
       "      <th>CRC_Count</th>\n",
       "      <th>CRC_Binary</th>\n",
       "      <th>pubdate</th>\n",
       "      <th>year</th>\n",
       "      <th>Credentials</th>\n",
       "      <th>target_grouping</th>\n",
       "    </tr>\n",
       "  </thead>\n",
       "  <tbody>\n",
       "    <tr>\n",
       "      <th>0</th>\n",
       "      <td>JFP</td>\n",
       "      <td>Tax Considerations for Relatively Wealthy Hous...</td>\n",
       "      <td>Reichenstein talks about households whose inco...</td>\n",
       "      <td>Reichenstein, William, PhD CFA</td>\n",
       "      <td>1</td>\n",
       "      <td>1</td>\n",
       "      <td>2</td>\n",
       "      <td>1</td>\n",
       "      <td>3</td>\n",
       "      <td>1</td>\n",
       "      <td>...</td>\n",
       "      <td>0</td>\n",
       "      <td>0</td>\n",
       "      <td>0</td>\n",
       "      <td>0</td>\n",
       "      <td>0</td>\n",
       "      <td>0</td>\n",
       "      <td>21-Dec</td>\n",
       "      <td>2021</td>\n",
       "      <td>[PhD, CFA]</td>\n",
       "      <td>Both</td>\n",
       "    </tr>\n",
       "    <tr>\n",
       "      <th>1</th>\n",
       "      <td>JFP</td>\n",
       "      <td>Using Scaffolding Learning Theory as a Framewo...</td>\n",
       "      <td>Financial professionals face client resistance...</td>\n",
       "      <td>Sterbenz, Elizabeth, LMFT;Ross, Dylan L, CFP® ...</td>\n",
       "      <td>0</td>\n",
       "      <td>0</td>\n",
       "      <td>0</td>\n",
       "      <td>0</td>\n",
       "      <td>0</td>\n",
       "      <td>0</td>\n",
       "      <td>...</td>\n",
       "      <td>0</td>\n",
       "      <td>0</td>\n",
       "      <td>0</td>\n",
       "      <td>0</td>\n",
       "      <td>0</td>\n",
       "      <td>0</td>\n",
       "      <td>21-Dec</td>\n",
       "      <td>2021</td>\n",
       "      <td>[CFP, PhD, PhD, CFP]</td>\n",
       "      <td>Both</td>\n",
       "    </tr>\n",
       "    <tr>\n",
       "      <th>2</th>\n",
       "      <td>JFP</td>\n",
       "      <td>How to Have Successful Client Conversations Ab...</td>\n",
       "      <td>Heye discusses how to have successful client c...</td>\n",
       "      <td>Heye, Chris, PhD</td>\n",
       "      <td>0</td>\n",
       "      <td>0</td>\n",
       "      <td>0</td>\n",
       "      <td>0</td>\n",
       "      <td>0</td>\n",
       "      <td>0</td>\n",
       "      <td>...</td>\n",
       "      <td>0</td>\n",
       "      <td>0</td>\n",
       "      <td>0</td>\n",
       "      <td>0</td>\n",
       "      <td>0</td>\n",
       "      <td>0</td>\n",
       "      <td>21-Dec</td>\n",
       "      <td>2021</td>\n",
       "      <td>[PhD]</td>\n",
       "      <td>Academic</td>\n",
       "    </tr>\n",
       "    <tr>\n",
       "      <th>3</th>\n",
       "      <td>JFP</td>\n",
       "      <td>To Reduce the Risk of Retirement Portfolio Exh...</td>\n",
       "      <td>Financial planners have long regarded diversif...</td>\n",
       "      <td>Walker, Philip;Sacks, Barry H, PhD JD;Sacks, S...</td>\n",
       "      <td>0</td>\n",
       "      <td>0</td>\n",
       "      <td>0</td>\n",
       "      <td>0</td>\n",
       "      <td>0</td>\n",
       "      <td>0</td>\n",
       "      <td>...</td>\n",
       "      <td>0</td>\n",
       "      <td>0</td>\n",
       "      <td>0</td>\n",
       "      <td>0</td>\n",
       "      <td>0</td>\n",
       "      <td>0</td>\n",
       "      <td>21-Dec</td>\n",
       "      <td>2021</td>\n",
       "      <td>[PhD, JD, PhD]</td>\n",
       "      <td>Both</td>\n",
       "    </tr>\n",
       "    <tr>\n",
       "      <th>4</th>\n",
       "      <td>JFP</td>\n",
       "      <td>My Career Path: Featuring TJ Burkett</td>\n",
       "      <td>Burkett shares his career path. He joined the ...</td>\n",
       "      <td>Burkett, T J, CFP®</td>\n",
       "      <td>0</td>\n",
       "      <td>0</td>\n",
       "      <td>0</td>\n",
       "      <td>0</td>\n",
       "      <td>0</td>\n",
       "      <td>0</td>\n",
       "      <td>...</td>\n",
       "      <td>0</td>\n",
       "      <td>0</td>\n",
       "      <td>0</td>\n",
       "      <td>0</td>\n",
       "      <td>0</td>\n",
       "      <td>0</td>\n",
       "      <td>21-Dec</td>\n",
       "      <td>2021</td>\n",
       "      <td>[CFP]</td>\n",
       "      <td>Practitioner</td>\n",
       "    </tr>\n",
       "  </tbody>\n",
       "</table>\n",
       "<p>5 rows × 46 columns</p>\n",
       "</div>"
      ],
      "text/plain": [
       "  Journal                                              Title  \\\n",
       "0     JFP  Tax Considerations for Relatively Wealthy Hous...   \n",
       "1     JFP  Using Scaffolding Learning Theory as a Framewo...   \n",
       "2     JFP  How to Have Successful Client Conversations Ab...   \n",
       "3     JFP  To Reduce the Risk of Retirement Portfolio Exh...   \n",
       "4     JFP               My Career Path: Featuring TJ Burkett   \n",
       "\n",
       "                                            Abstract  \\\n",
       "0  Reichenstein talks about households whose inco...   \n",
       "1  Financial professionals face client resistance...   \n",
       "2  Heye discusses how to have successful client c...   \n",
       "3  Financial planners have long regarded diversif...   \n",
       "4  Burkett shares his career path. He joined the ...   \n",
       "\n",
       "                                             Authors  Tax_Title_Count  \\\n",
       "0                     Reichenstein, William, PhD CFA                1   \n",
       "1  Sterbenz, Elizabeth, LMFT;Ross, Dylan L, CFP® ...                0   \n",
       "2                                   Heye, Chris, PhD                0   \n",
       "3  Walker, Philip;Sacks, Barry H, PhD JD;Sacks, S...                0   \n",
       "4                                 Burkett, T J, CFP®                0   \n",
       "\n",
       "   Tax_Title_Binary  Tax_Abstract_Count  Tax_Abstract_Binary  Tax_Total_Count  \\\n",
       "0                 1                   2                    1                3   \n",
       "1                 0                   0                    0                0   \n",
       "2                 0                   0                    0                0   \n",
       "3                 0                   0                    0                0   \n",
       "4                 0                   0                    0                0   \n",
       "\n",
       "   Tax_Total_Binary  ...  LLM_Count  LLM_Binary  AIF_Count  AIF_Binary  \\\n",
       "0                 1  ...          0           0          0           0   \n",
       "1                 0  ...          0           0          0           0   \n",
       "2                 0  ...          0           0          0           0   \n",
       "3                 0  ...          0           0          0           0   \n",
       "4                 0  ...          0           0          0           0   \n",
       "\n",
       "   CRC_Count  CRC_Binary  pubdate  year           Credentials  target_grouping  \n",
       "0          0           0   21-Dec  2021            [PhD, CFA]             Both  \n",
       "1          0           0   21-Dec  2021  [CFP, PhD, PhD, CFP]             Both  \n",
       "2          0           0   21-Dec  2021                 [PhD]         Academic  \n",
       "3          0           0   21-Dec  2021        [PhD, JD, PhD]             Both  \n",
       "4          0           0   21-Dec  2021                 [CFP]     Practitioner  \n",
       "\n",
       "[5 rows x 46 columns]"
      ]
     },
     "execution_count": 6,
     "metadata": {},
     "output_type": "execute_result"
    }
   ],
   "source": [
    "df.head()"
   ]
  },
  {
   "cell_type": "markdown",
   "metadata": {},
   "source": [
    "## Split Train and Target"
   ]
  },
  {
   "cell_type": "code",
   "execution_count": 7,
   "metadata": {},
   "outputs": [],
   "source": [
    "X = df.Abstract\n",
    "y = df.target_grouping"
   ]
  },
  {
   "cell_type": "markdown",
   "metadata": {},
   "source": [
    "## Encode Target"
   ]
  },
  {
   "cell_type": "code",
   "execution_count": 8,
   "metadata": {},
   "outputs": [],
   "source": [
    "encoder = LabelEncoder()\n",
    "y = encoder.fit_transform(y)"
   ]
  },
  {
   "cell_type": "markdown",
   "metadata": {},
   "source": [
    "## Create Pipeline"
   ]
  },
  {
   "cell_type": "code",
   "execution_count": 28,
   "metadata": {},
   "outputs": [],
   "source": [
    "pipeline = Pipeline([\n",
    "    (\"vectorizer\", TfidfVectorizer()),\n",
    "    (\"scaler\", StandardScaler(with_mean=False))\n",
    "])\n",
    "\n",
    "models = [LogisticRegression(multi_class=\"ovr\"), MultinomialNB(), DecisionTreeClassifier(), RandomForestClassifier()]\n",
    "\n",
    "pipelines = [Pipeline([\n",
    "    (\"vectorizer\", TfidfVectorizer()),\n",
    "    (\"scaler\", StandardScaler(with_mean=False)),\n",
    "    (\"classifier\", model)\n",
    "    ]) for model in models]"
   ]
  },
  {
   "cell_type": "code",
   "execution_count": 29,
   "metadata": {},
   "outputs": [
    {
     "data": {
      "text/plain": [
       "[Pipeline(steps=[('vectorizer', TfidfVectorizer()),\n",
       "                 ('scaler', StandardScaler(with_mean=False)),\n",
       "                 ('classifier', LogisticRegression(multi_class='ovr'))]),\n",
       " Pipeline(steps=[('vectorizer', TfidfVectorizer()),\n",
       "                 ('scaler', StandardScaler(with_mean=False)),\n",
       "                 ('classifier', MultinomialNB())]),\n",
       " Pipeline(steps=[('vectorizer', TfidfVectorizer()),\n",
       "                 ('scaler', StandardScaler(with_mean=False)),\n",
       "                 ('classifier', DecisionTreeClassifier())]),\n",
       " Pipeline(steps=[('vectorizer', TfidfVectorizer()),\n",
       "                 ('scaler', StandardScaler(with_mean=False)),\n",
       "                 ('classifier', RandomForestClassifier())])]"
      ]
     },
     "execution_count": 29,
     "metadata": {},
     "output_type": "execute_result"
    }
   ],
   "source": [
    "pipelines"
   ]
  },
  {
   "cell_type": "markdown",
   "metadata": {},
   "source": [
    "## Cross Validation"
   ]
  },
  {
   "cell_type": "code",
   "execution_count": 33,
   "metadata": {},
   "outputs": [
    {
     "name": "stderr",
     "output_type": "stream",
     "text": [
      "/Users/andy/opt/anaconda3/lib/python3.7/site-packages/sklearn/metrics/_classification.py:1318: UndefinedMetricWarning: Precision is ill-defined and being set to 0.0 in labels with no predicted samples. Use `zero_division` parameter to control this behavior.\n",
      "  _warn_prf(average, modifier, msg_start, len(result))\n",
      "/Users/andy/opt/anaconda3/lib/python3.7/site-packages/sklearn/metrics/_classification.py:1318: UndefinedMetricWarning: Precision is ill-defined and being set to 0.0 in labels with no predicted samples. Use `zero_division` parameter to control this behavior.\n",
      "  _warn_prf(average, modifier, msg_start, len(result))\n",
      "/Users/andy/opt/anaconda3/lib/python3.7/site-packages/sklearn/metrics/_classification.py:1318: UndefinedMetricWarning: Precision is ill-defined and being set to 0.0 in labels with no predicted samples. Use `zero_division` parameter to control this behavior.\n",
      "  _warn_prf(average, modifier, msg_start, len(result))\n",
      "/Users/andy/opt/anaconda3/lib/python3.7/site-packages/sklearn/metrics/_classification.py:1318: UndefinedMetricWarning: Precision is ill-defined and being set to 0.0 in labels with no predicted samples. Use `zero_division` parameter to control this behavior.\n",
      "  _warn_prf(average, modifier, msg_start, len(result))\n",
      "/Users/andy/opt/anaconda3/lib/python3.7/site-packages/sklearn/metrics/_classification.py:1318: UndefinedMetricWarning: Precision is ill-defined and being set to 0.0 in labels with no predicted samples. Use `zero_division` parameter to control this behavior.\n",
      "  _warn_prf(average, modifier, msg_start, len(result))\n"
     ]
    }
   ],
   "source": [
    "results = [cross_validate(pipeline, X, y, scoring=[\"precision_weighted\", \"recall_weighted\"], cv=5, n_jobs=-1) for pipeline in pipelines]"
   ]
  },
  {
   "cell_type": "code",
   "execution_count": 37,
   "metadata": {},
   "outputs": [],
   "source": [
    "result_df = pd.DataFrame({\n",
    "    \"model\": models,\n",
    "    \"avg_precision_weighted\": [result[\"test_precision_weighted\"].mean() for result in results],\n",
    "    \"avg_recall_weighted\": [result[\"test_recall_weighted\"].mean() for result in results]\n",
    "})"
   ]
  },
  {
   "cell_type": "code",
   "execution_count": 38,
   "metadata": {},
   "outputs": [
    {
     "data": {
      "text/html": [
       "<div>\n",
       "<style scoped>\n",
       "    .dataframe tbody tr th:only-of-type {\n",
       "        vertical-align: middle;\n",
       "    }\n",
       "\n",
       "    .dataframe tbody tr th {\n",
       "        vertical-align: top;\n",
       "    }\n",
       "\n",
       "    .dataframe thead th {\n",
       "        text-align: right;\n",
       "    }\n",
       "</style>\n",
       "<table border=\"1\" class=\"dataframe\">\n",
       "  <thead>\n",
       "    <tr style=\"text-align: right;\">\n",
       "      <th></th>\n",
       "      <th>model</th>\n",
       "      <th>avg_precision_weighted</th>\n",
       "      <th>avg_recall_weighted</th>\n",
       "    </tr>\n",
       "  </thead>\n",
       "  <tbody>\n",
       "    <tr>\n",
       "      <th>0</th>\n",
       "      <td>LogisticRegression(multi_class='ovr')</td>\n",
       "      <td>0.684750</td>\n",
       "      <td>0.755714</td>\n",
       "    </tr>\n",
       "    <tr>\n",
       "      <th>1</th>\n",
       "      <td>MultinomialNB()</td>\n",
       "      <td>0.685510</td>\n",
       "      <td>0.705839</td>\n",
       "    </tr>\n",
       "    <tr>\n",
       "      <th>2</th>\n",
       "      <td>DecisionTreeClassifier()</td>\n",
       "      <td>0.629355</td>\n",
       "      <td>0.618748</td>\n",
       "    </tr>\n",
       "    <tr>\n",
       "      <th>3</th>\n",
       "      <td>RandomForestClassifier()</td>\n",
       "      <td>0.586084</td>\n",
       "      <td>0.748101</td>\n",
       "    </tr>\n",
       "  </tbody>\n",
       "</table>\n",
       "</div>"
      ],
      "text/plain": [
       "                                   model  avg_precision_weighted  \\\n",
       "0  LogisticRegression(multi_class='ovr')                0.684750   \n",
       "1                        MultinomialNB()                0.685510   \n",
       "2               DecisionTreeClassifier()                0.629355   \n",
       "3               RandomForestClassifier()                0.586084   \n",
       "\n",
       "   avg_recall_weighted  \n",
       "0             0.755714  \n",
       "1             0.705839  \n",
       "2             0.618748  \n",
       "3             0.748101  "
      ]
     },
     "execution_count": 38,
     "metadata": {},
     "output_type": "execute_result"
    }
   ],
   "source": [
    "result_df"
   ]
  },
  {
   "cell_type": "markdown",
   "metadata": {},
   "source": [
    "## Save Results"
   ]
  },
  {
   "cell_type": "code",
   "execution_count": 39,
   "metadata": {},
   "outputs": [],
   "source": [
    "result_df.to_csv(\"../results/baseline_model_results.csv\", index=False)"
   ]
  }
 ],
 "metadata": {
  "kernelspec": {
   "display_name": "base",
   "language": "python",
   "name": "python3"
  },
  "language_info": {
   "codemirror_mode": {
    "name": "ipython",
    "version": 3
   },
   "file_extension": ".py",
   "mimetype": "text/x-python",
   "name": "python",
   "nbconvert_exporter": "python",
   "pygments_lexer": "ipython3",
   "version": "3.7.16"
  },
  "orig_nbformat": 4
 },
 "nbformat": 4,
 "nbformat_minor": 2
}
