{
 "cells": [
  {
   "cell_type": "markdown",
   "metadata": {},
   "source": [
    "## Import Libraries"
   ]
  },
  {
   "cell_type": "code",
   "execution_count": 1,
   "metadata": {},
   "outputs": [
    {
     "name": "stdout",
     "output_type": "stream",
     "text": [
      "1.0.2\n"
     ]
    }
   ],
   "source": [
    "import numpy as np\n",
    "import pandas as pd\n",
    "import re\n",
    "\n",
    "import sklearn\n",
    "from sklearn.feature_extraction.text import TfidfVectorizer\n",
    "from sklearn.pipeline import Pipeline\n",
    "from sklearn.linear_model import LogisticRegression\n",
    "from sklearn.tree import DecisionTreeClassifier\n",
    "from sklearn.ensemble import RandomForestClassifier\n",
    "from sklearn.naive_bayes import MultinomialNB\n",
    "from sklearn.preprocessing import LabelEncoder, StandardScaler\n",
    "from sklearn.model_selection import train_test_split, cross_validate\n",
    "\n",
    "np.random.seed(13)\n",
    "print(sklearn.__version__)"
   ]
  },
  {
   "cell_type": "markdown",
   "metadata": {},
   "source": [
    "## Import data"
   ]
  },
  {
   "cell_type": "code",
   "execution_count": 2,
   "metadata": {},
   "outputs": [],
   "source": [
    "df = pd.read_csv(\"../data/JFP Credential Data_All_Journals_Final.csv\")"
   ]
  },
  {
   "cell_type": "code",
   "execution_count": 3,
   "metadata": {},
   "outputs": [
    {
     "name": "stdout",
     "output_type": "stream",
     "text": [
      "<class 'pandas.core.frame.DataFrame'>\n",
      "RangeIndex: 5086 entries, 0 to 5085\n",
      "Data columns (total 9 columns):\n",
      " #   Column        Non-Null Count  Dtype \n",
      "---  ------        --------------  ----- \n",
      " 0   Title         5086 non-null   object\n",
      " 1   Abstract      3624 non-null   object\n",
      " 2   Authors       4941 non-null   object\n",
      " 3   documentType  5086 non-null   object\n",
      " 4   pub_month     4816 non-null   object\n",
      " 5   pub_year      5086 non-null   int64 \n",
      " 6   pubtitle      5086 non-null   object\n",
      " 7   subjectTerms  3651 non-null   object\n",
      " 8   Database      5086 non-null   object\n",
      "dtypes: int64(1), object(8)\n",
      "memory usage: 357.7+ KB\n"
     ]
    }
   ],
   "source": [
    "df.info()"
   ]
  },
  {
   "cell_type": "markdown",
   "metadata": {},
   "source": [
    "## Extract Credentials"
   ]
  },
  {
   "cell_type": "code",
   "execution_count": 4,
   "metadata": {},
   "outputs": [],
   "source": [
    "df[\"Credentials\"] = (df\n",
    "                     .Authors\n",
    "                     .apply(lambda x: re.findall(r\"(CFP|PhD|CFA|JD|CPA|CLU|ChFC|LLM|AIF|CRC)\", str(x)))\n",
    "                     .apply(lambda x: np.nan if len(x) == 0 else x)\n",
    "                     )"
   ]
  },
  {
   "cell_type": "markdown",
   "metadata": {},
   "source": [
    "## Group Credentials into target groups"
   ]
  },
  {
   "cell_type": "code",
   "execution_count": 5,
   "metadata": {},
   "outputs": [],
   "source": [
    "def target_grouping(x):\n",
    "    if type(x) != list:\n",
    "        return np.nan\n",
    "    elif set(x) == {\"PhD\"}:\n",
    "        return \"Academic\"\n",
    "    elif \"PhD\" in x and len(set(x)) == 2:\n",
    "        return \"Both\"\n",
    "    else:\n",
    "        return \"Practitioner\"\n",
    "\n",
    "df[\"target_grouping\"] = df.Credentials.apply(target_grouping)"
   ]
  },
  {
   "cell_type": "code",
   "execution_count": 6,
   "metadata": {},
   "outputs": [
    {
     "data": {
      "text/html": [
       "<div>\n",
       "<style scoped>\n",
       "    .dataframe tbody tr th:only-of-type {\n",
       "        vertical-align: middle;\n",
       "    }\n",
       "\n",
       "    .dataframe tbody tr th {\n",
       "        vertical-align: top;\n",
       "    }\n",
       "\n",
       "    .dataframe thead th {\n",
       "        text-align: right;\n",
       "    }\n",
       "</style>\n",
       "<table border=\"1\" class=\"dataframe\">\n",
       "  <thead>\n",
       "    <tr style=\"text-align: right;\">\n",
       "      <th></th>\n",
       "      <th>Title</th>\n",
       "      <th>Abstract</th>\n",
       "      <th>Authors</th>\n",
       "      <th>documentType</th>\n",
       "      <th>pub_month</th>\n",
       "      <th>pub_year</th>\n",
       "      <th>pubtitle</th>\n",
       "      <th>subjectTerms</th>\n",
       "      <th>Database</th>\n",
       "      <th>Credentials</th>\n",
       "      <th>target_grouping</th>\n",
       "    </tr>\n",
       "  </thead>\n",
       "  <tbody>\n",
       "    <tr>\n",
       "      <th>0</th>\n",
       "      <td>Seeking Nirvana Amidst Chaos</td>\n",
       "      <td>Buddhism teaches that the only constant in lif...</td>\n",
       "      <td>Cummings, Bridger</td>\n",
       "      <td>Feature</td>\n",
       "      <td>Dec</td>\n",
       "      <td>2021</td>\n",
       "      <td>Journal of Financial Planning</td>\n",
       "      <td>Millennials , Financial planners , Financial ...</td>\n",
       "      <td>ProQuest One Academic</td>\n",
       "      <td>NaN</td>\n",
       "      <td>NaN</td>\n",
       "    </tr>\n",
       "    <tr>\n",
       "      <th>1</th>\n",
       "      <td>Tax Considerations for Relatively Wealthy Hous...</td>\n",
       "      <td>Reichenstein talks about households whose inco...</td>\n",
       "      <td>Reichenstein, William, PhD CFA</td>\n",
       "      <td>Commentary</td>\n",
       "      <td>Dec</td>\n",
       "      <td>2021</td>\n",
       "      <td>Journal of Financial Planning</td>\n",
       "      <td>Households , Income taxes , Medicare</td>\n",
       "      <td>ProQuest One Academic</td>\n",
       "      <td>[PhD, CFA]</td>\n",
       "      <td>Both</td>\n",
       "    </tr>\n",
       "    <tr>\n",
       "      <th>2</th>\n",
       "      <td>Credits</td>\n",
       "      <td>NaN</td>\n",
       "      <td>Anonymous</td>\n",
       "      <td>Credits</td>\n",
       "      <td>Dec</td>\n",
       "      <td>2021</td>\n",
       "      <td>Journal of Financial Planning</td>\n",
       "      <td>NaN</td>\n",
       "      <td>ProQuest One Academic</td>\n",
       "      <td>NaN</td>\n",
       "      <td>NaN</td>\n",
       "    </tr>\n",
       "    <tr>\n",
       "      <th>3</th>\n",
       "      <td>Establishing Financial Self-efficacy Among Afr...</td>\n",
       "      <td>A financial literacy gap exists between Africa...</td>\n",
       "      <td>Anonymous</td>\n",
       "      <td>Feature</td>\n",
       "      <td>Dec</td>\n",
       "      <td>2021</td>\n",
       "      <td>Journal of Financial Planning</td>\n",
       "      <td>African Americans , Financial literacy , Fina...</td>\n",
       "      <td>ProQuest One Academic</td>\n",
       "      <td>NaN</td>\n",
       "      <td>NaN</td>\n",
       "    </tr>\n",
       "    <tr>\n",
       "      <th>4</th>\n",
       "      <td>STAT BANK</td>\n",
       "      <td>NaN</td>\n",
       "      <td>Anonymous</td>\n",
       "      <td>General Information</td>\n",
       "      <td>Dec</td>\n",
       "      <td>2021</td>\n",
       "      <td>Journal of Financial Planning</td>\n",
       "      <td>NaN</td>\n",
       "      <td>ProQuest One Academic</td>\n",
       "      <td>NaN</td>\n",
       "      <td>NaN</td>\n",
       "    </tr>\n",
       "  </tbody>\n",
       "</table>\n",
       "</div>"
      ],
      "text/plain": [
       "                                               Title  \\\n",
       "0                       Seeking Nirvana Amidst Chaos   \n",
       "1  Tax Considerations for Relatively Wealthy Hous...   \n",
       "2                                            Credits   \n",
       "3  Establishing Financial Self-efficacy Among Afr...   \n",
       "4                                          STAT BANK   \n",
       "\n",
       "                                            Abstract  \\\n",
       "0  Buddhism teaches that the only constant in lif...   \n",
       "1  Reichenstein talks about households whose inco...   \n",
       "2                                                NaN   \n",
       "3  A financial literacy gap exists between Africa...   \n",
       "4                                                NaN   \n",
       "\n",
       "                          Authors          documentType pub_month  pub_year  \\\n",
       "0               Cummings, Bridger               Feature       Dec      2021   \n",
       "1  Reichenstein, William, PhD CFA            Commentary       Dec      2021   \n",
       "2                       Anonymous               Credits       Dec      2021   \n",
       "3                       Anonymous               Feature       Dec      2021   \n",
       "4                       Anonymous   General Information       Dec      2021   \n",
       "\n",
       "                        pubtitle  \\\n",
       "0  Journal of Financial Planning   \n",
       "1  Journal of Financial Planning   \n",
       "2  Journal of Financial Planning   \n",
       "3  Journal of Financial Planning   \n",
       "4  Journal of Financial Planning   \n",
       "\n",
       "                                        subjectTerms               Database  \\\n",
       "0   Millennials , Financial planners , Financial ...  ProQuest One Academic   \n",
       "1               Households , Income taxes , Medicare  ProQuest One Academic   \n",
       "2                                                NaN  ProQuest One Academic   \n",
       "3   African Americans , Financial literacy , Fina...  ProQuest One Academic   \n",
       "4                                                NaN  ProQuest One Academic   \n",
       "\n",
       "  Credentials target_grouping  \n",
       "0         NaN             NaN  \n",
       "1  [PhD, CFA]            Both  \n",
       "2         NaN             NaN  \n",
       "3         NaN             NaN  \n",
       "4         NaN             NaN  "
      ]
     },
     "execution_count": 6,
     "metadata": {},
     "output_type": "execute_result"
    }
   ],
   "source": [
    "df.head()"
   ]
  },
  {
   "cell_type": "markdown",
   "metadata": {},
   "source": [
    "## Drop nulls"
   ]
  },
  {
   "cell_type": "code",
   "execution_count": 7,
   "metadata": {},
   "outputs": [],
   "source": [
    "df = df.dropna(subset=[\"target_grouping\", \"Abstract\"]).reset_index(drop=True)"
   ]
  },
  {
   "cell_type": "markdown",
   "metadata": {},
   "source": [
    "## Split Train and Target"
   ]
  },
  {
   "cell_type": "code",
   "execution_count": 8,
   "metadata": {},
   "outputs": [],
   "source": [
    "X = df.Abstract\n",
    "y = df.target_grouping"
   ]
  },
  {
   "cell_type": "code",
   "execution_count": 9,
   "metadata": {},
   "outputs": [
    {
     "data": {
      "text/plain": [
       "((2408,), (2408,))"
      ]
     },
     "execution_count": 9,
     "metadata": {},
     "output_type": "execute_result"
    }
   ],
   "source": [
    "X.shape, y.shape"
   ]
  },
  {
   "cell_type": "code",
   "execution_count": 10,
   "metadata": {},
   "outputs": [
    {
     "data": {
      "text/plain": [
       "Practitioner    1713\n",
       "Academic         387\n",
       "Both             308\n",
       "Name: target_grouping, dtype: int64"
      ]
     },
     "execution_count": 10,
     "metadata": {},
     "output_type": "execute_result"
    }
   ],
   "source": [
    "y.value_counts()"
   ]
  },
  {
   "cell_type": "markdown",
   "metadata": {},
   "source": [
    "## Encode Target"
   ]
  },
  {
   "cell_type": "code",
   "execution_count": 11,
   "metadata": {},
   "outputs": [],
   "source": [
    "encoder = LabelEncoder()\n",
    "y = encoder.fit_transform(y)"
   ]
  },
  {
   "cell_type": "markdown",
   "metadata": {},
   "source": [
    "## Create Pipeline"
   ]
  },
  {
   "cell_type": "code",
   "execution_count": 12,
   "metadata": {},
   "outputs": [],
   "source": [
    "pipeline = Pipeline([\n",
    "    (\"vectorizer\", TfidfVectorizer()),\n",
    "    (\"scaler\", StandardScaler(with_mean=False))\n",
    "])\n",
    "\n",
    "models = [LogisticRegression(multi_class=\"ovr\"), MultinomialNB(), DecisionTreeClassifier(), RandomForestClassifier()]\n",
    "\n",
    "pipelines = [Pipeline([\n",
    "    (\"vectorizer\", TfidfVectorizer()),\n",
    "    (\"scaler\", StandardScaler(with_mean=False)),\n",
    "    (\"classifier\", model)\n",
    "    ]) for model in models]"
   ]
  },
  {
   "cell_type": "code",
   "execution_count": 13,
   "metadata": {},
   "outputs": [
    {
     "data": {
      "text/plain": [
       "[Pipeline(steps=[('vectorizer', TfidfVectorizer()),\n",
       "                 ('scaler', StandardScaler(with_mean=False)),\n",
       "                 ('classifier', LogisticRegression(multi_class='ovr'))]),\n",
       " Pipeline(steps=[('vectorizer', TfidfVectorizer()),\n",
       "                 ('scaler', StandardScaler(with_mean=False)),\n",
       "                 ('classifier', MultinomialNB())]),\n",
       " Pipeline(steps=[('vectorizer', TfidfVectorizer()),\n",
       "                 ('scaler', StandardScaler(with_mean=False)),\n",
       "                 ('classifier', DecisionTreeClassifier())]),\n",
       " Pipeline(steps=[('vectorizer', TfidfVectorizer()),\n",
       "                 ('scaler', StandardScaler(with_mean=False)),\n",
       "                 ('classifier', RandomForestClassifier())])]"
      ]
     },
     "execution_count": 13,
     "metadata": {},
     "output_type": "execute_result"
    }
   ],
   "source": [
    "pipelines"
   ]
  },
  {
   "cell_type": "markdown",
   "metadata": {},
   "source": [
    "## Cross Validation"
   ]
  },
  {
   "cell_type": "code",
   "execution_count": 14,
   "metadata": {},
   "outputs": [
    {
     "name": "stderr",
     "output_type": "stream",
     "text": [
      "/Users/andy/opt/anaconda3/lib/python3.7/site-packages/sklearn/metrics/_classification.py:1318: UndefinedMetricWarning: Precision is ill-defined and being set to 0.0 in labels with no predicted samples. Use `zero_division` parameter to control this behavior.\n",
      "  _warn_prf(average, modifier, msg_start, len(result))\n",
      "/Users/andy/opt/anaconda3/lib/python3.7/site-packages/sklearn/metrics/_classification.py:1318: UndefinedMetricWarning: Precision is ill-defined and being set to 0.0 in labels with no predicted samples. Use `zero_division` parameter to control this behavior.\n",
      "  _warn_prf(average, modifier, msg_start, len(result))\n"
     ]
    }
   ],
   "source": [
    "results = [cross_validate(pipeline, X, y, scoring=[\"precision_weighted\", \"recall_weighted\"], cv=5, n_jobs=-1) for pipeline in pipelines]"
   ]
  },
  {
   "cell_type": "code",
   "execution_count": 15,
   "metadata": {},
   "outputs": [],
   "source": [
    "result_df = pd.DataFrame({\n",
    "    \"model\": models,\n",
    "    \"avg_precision_weighted\": [result[\"test_precision_weighted\"].mean() for result in results],\n",
    "    \"avg_recall_weighted\": [result[\"test_recall_weighted\"].mean() for result in results]\n",
    "})"
   ]
  },
  {
   "cell_type": "code",
   "execution_count": 16,
   "metadata": {},
   "outputs": [
    {
     "data": {
      "text/html": [
       "<div>\n",
       "<style scoped>\n",
       "    .dataframe tbody tr th:only-of-type {\n",
       "        vertical-align: middle;\n",
       "    }\n",
       "\n",
       "    .dataframe tbody tr th {\n",
       "        vertical-align: top;\n",
       "    }\n",
       "\n",
       "    .dataframe thead th {\n",
       "        text-align: right;\n",
       "    }\n",
       "</style>\n",
       "<table border=\"1\" class=\"dataframe\">\n",
       "  <thead>\n",
       "    <tr style=\"text-align: right;\">\n",
       "      <th></th>\n",
       "      <th>model</th>\n",
       "      <th>avg_precision_weighted</th>\n",
       "      <th>avg_recall_weighted</th>\n",
       "    </tr>\n",
       "  </thead>\n",
       "  <tbody>\n",
       "    <tr>\n",
       "      <th>0</th>\n",
       "      <td>LogisticRegression(multi_class='ovr')</td>\n",
       "      <td>0.675067</td>\n",
       "      <td>0.722190</td>\n",
       "    </tr>\n",
       "    <tr>\n",
       "      <th>1</th>\n",
       "      <td>MultinomialNB()</td>\n",
       "      <td>0.668272</td>\n",
       "      <td>0.675269</td>\n",
       "    </tr>\n",
       "    <tr>\n",
       "      <th>2</th>\n",
       "      <td>DecisionTreeClassifier()</td>\n",
       "      <td>0.607661</td>\n",
       "      <td>0.598836</td>\n",
       "    </tr>\n",
       "    <tr>\n",
       "      <th>3</th>\n",
       "      <td>RandomForestClassifier()</td>\n",
       "      <td>0.653270</td>\n",
       "      <td>0.718029</td>\n",
       "    </tr>\n",
       "  </tbody>\n",
       "</table>\n",
       "</div>"
      ],
      "text/plain": [
       "                                   model  avg_precision_weighted  \\\n",
       "0  LogisticRegression(multi_class='ovr')                0.675067   \n",
       "1                        MultinomialNB()                0.668272   \n",
       "2               DecisionTreeClassifier()                0.607661   \n",
       "3               RandomForestClassifier()                0.653270   \n",
       "\n",
       "   avg_recall_weighted  \n",
       "0             0.722190  \n",
       "1             0.675269  \n",
       "2             0.598836  \n",
       "3             0.718029  "
      ]
     },
     "execution_count": 16,
     "metadata": {},
     "output_type": "execute_result"
    }
   ],
   "source": [
    "result_df"
   ]
  },
  {
   "cell_type": "markdown",
   "metadata": {},
   "source": [
    "## Save Results"
   ]
  },
  {
   "cell_type": "code",
   "execution_count": 17,
   "metadata": {},
   "outputs": [],
   "source": [
    "result_df.to_csv(\"../results/baseline_model_results.csv\", index=False)"
   ]
  }
 ],
 "metadata": {
  "kernelspec": {
   "display_name": "base",
   "language": "python",
   "name": "python3"
  },
  "language_info": {
   "codemirror_mode": {
    "name": "ipython",
    "version": 3
   },
   "file_extension": ".py",
   "mimetype": "text/x-python",
   "name": "python",
   "nbconvert_exporter": "python",
   "pygments_lexer": "ipython3",
   "version": "3.7.16"
  },
  "orig_nbformat": 4
 },
 "nbformat": 4,
 "nbformat_minor": 2
}
