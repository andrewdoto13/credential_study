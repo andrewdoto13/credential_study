{
 "cells": [
  {
   "cell_type": "markdown",
   "metadata": {},
   "source": [
    "## Import Libraries"
   ]
  },
  {
   "cell_type": "code",
   "execution_count": 1,
   "metadata": {},
   "outputs": [
    {
     "name": "stdout",
     "output_type": "stream",
     "text": [
      "1.6.1\n",
      "2.2.0\n",
      "2.2.3\n"
     ]
    }
   ],
   "source": [
    "import numpy as np\n",
    "import pandas as pd\n",
    "import re\n",
    "\n",
    "import sklearn\n",
    "from sklearn.feature_extraction.text import TfidfVectorizer\n",
    "from sklearn.pipeline import Pipeline\n",
    "from sklearn.linear_model import LogisticRegression\n",
    "from sklearn.tree import DecisionTreeClassifier\n",
    "from sklearn.ensemble import RandomForestClassifier\n",
    "from sklearn.naive_bayes import MultinomialNB\n",
    "from sklearn.preprocessing import LabelEncoder, StandardScaler\n",
    "from sklearn.model_selection import train_test_split, cross_validate\n",
    "\n",
    "np.random.seed(13)\n",
    "print(sklearn.__version__)\n",
    "print(np.__version__)\n",
    "print(pd.__version__)"
   ]
  },
  {
   "cell_type": "markdown",
   "metadata": {},
   "source": [
    "## Import data"
   ]
  },
  {
   "cell_type": "code",
   "execution_count": 3,
   "metadata": {},
   "outputs": [],
   "source": [
    "df = pd.read_csv(\"../data/JFP Credential Data_All_Journals_Final_1.2025.csv\")"
   ]
  },
  {
   "cell_type": "code",
   "execution_count": 4,
   "metadata": {},
   "outputs": [
    {
     "name": "stdout",
     "output_type": "stream",
     "text": [
      "<class 'pandas.core.frame.DataFrame'>\n",
      "RangeIndex: 5630 entries, 0 to 5629\n",
      "Data columns (total 9 columns):\n",
      " #   Column        Non-Null Count  Dtype \n",
      "---  ------        --------------  ----- \n",
      " 0   Title         5630 non-null   object\n",
      " 1   Abstract      4046 non-null   object\n",
      " 2   Authors       5466 non-null   object\n",
      " 3   documentType  5630 non-null   object\n",
      " 4   pub_month     5337 non-null   object\n",
      " 5   pub_year      5630 non-null   int64 \n",
      " 6   pubtitle      5630 non-null   object\n",
      " 7   subjectTerms  4067 non-null   object\n",
      " 8   Database      5630 non-null   object\n",
      "dtypes: int64(1), object(8)\n",
      "memory usage: 396.0+ KB\n"
     ]
    }
   ],
   "source": [
    "df.info()"
   ]
  },
  {
   "cell_type": "markdown",
   "metadata": {},
   "source": [
    "## Extract Credentials"
   ]
  },
  {
   "cell_type": "code",
   "execution_count": 5,
   "metadata": {},
   "outputs": [],
   "source": [
    "df[\"Credentials\"] = (df\n",
    "                     .Authors\n",
    "                     .apply(lambda x: re.findall(r\"(CFP|PhD|CFA|JD|CPA|CLU|ChFC|LLM|AIF|CRC)\", str(x)))\n",
    "                     .apply(lambda x: np.nan if len(x) == 0 else x)\n",
    "                     )"
   ]
  },
  {
   "cell_type": "markdown",
   "metadata": {},
   "source": [
    "## Group Credentials into target groups"
   ]
  },
  {
   "cell_type": "code",
   "execution_count": 6,
   "metadata": {},
   "outputs": [],
   "source": [
    "def target_grouping(x):\n",
    "    if type(x) != list:\n",
    "        return np.nan\n",
    "    elif \"PhD\" in set(x):\n",
    "        return \"Academic\"\n",
    "    else:\n",
    "        return \"Practitioner\"\n",
    "\n",
    "df[\"target_grouping\"] = df.Credentials.apply(target_grouping)"
   ]
  },
  {
   "cell_type": "markdown",
   "metadata": {},
   "source": [
    "## Drop nulls"
   ]
  },
  {
   "cell_type": "code",
   "execution_count": 7,
   "metadata": {},
   "outputs": [],
   "source": [
    "df = df.dropna(subset=[\"target_grouping\", \"Abstract\"]).reset_index(drop=True)"
   ]
  },
  {
   "cell_type": "code",
   "execution_count": 8,
   "metadata": {},
   "outputs": [
    {
     "data": {
      "text/html": [
       "<div>\n",
       "<style scoped>\n",
       "    .dataframe tbody tr th:only-of-type {\n",
       "        vertical-align: middle;\n",
       "    }\n",
       "\n",
       "    .dataframe tbody tr th {\n",
       "        vertical-align: top;\n",
       "    }\n",
       "\n",
       "    .dataframe thead th {\n",
       "        text-align: right;\n",
       "    }\n",
       "</style>\n",
       "<table border=\"1\" class=\"dataframe\">\n",
       "  <thead>\n",
       "    <tr style=\"text-align: right;\">\n",
       "      <th></th>\n",
       "      <th>Title</th>\n",
       "      <th>Abstract</th>\n",
       "      <th>Authors</th>\n",
       "      <th>documentType</th>\n",
       "      <th>pub_month</th>\n",
       "      <th>pub_year</th>\n",
       "      <th>pubtitle</th>\n",
       "      <th>subjectTerms</th>\n",
       "      <th>Database</th>\n",
       "      <th>Credentials</th>\n",
       "      <th>target_grouping</th>\n",
       "    </tr>\n",
       "  </thead>\n",
       "  <tbody>\n",
       "    <tr>\n",
       "      <th>0</th>\n",
       "      <td>How Do Commodities Fit into Client Portfolios?</td>\n",
       "      <td>The standard stock--bond portfolio mix remains...</td>\n",
       "      <td>Fink, Jason D, PhD;Fink, Kristin E, PhD</td>\n",
       "      <td>Commentary</td>\n",
       "      <td>Oct</td>\n",
       "      <td>2022</td>\n",
       "      <td>Journal of Financial Planning</td>\n",
       "      <td>Financial planning , Investment , Bonds , Sto...</td>\n",
       "      <td>ProQuest One Academic</td>\n",
       "      <td>[PhD, PhD]</td>\n",
       "      <td>Academic</td>\n",
       "    </tr>\n",
       "    <tr>\n",
       "      <th>1</th>\n",
       "      <td>The Role of Financial Planners on African Amer...</td>\n",
       "      <td>* Addressing the issue of \"wealth gap,\" partic...</td>\n",
       "      <td>Chen, Leon, PhD, FRM;Duffy, Sophia, JD, CPA;Hi...</td>\n",
       "      <td>Commentary</td>\n",
       "      <td>Nov</td>\n",
       "      <td>2022</td>\n",
       "      <td>Journal of Financial Planning</td>\n",
       "      <td>Credit , Small business , Wealth distribution...</td>\n",
       "      <td>ProQuest One Academic</td>\n",
       "      <td>[PhD, JD, CPA, PhD, CFP]</td>\n",
       "      <td>Academic</td>\n",
       "    </tr>\n",
       "    <tr>\n",
       "      <th>2</th>\n",
       "      <td>How to Effectively Manage Six \"Oh Bleep\" Clien...</td>\n",
       "      <td>Managing difficult client situations is part o...</td>\n",
       "      <td>Heye, Chris, PhD</td>\n",
       "      <td>Journal Article</td>\n",
       "      <td>May</td>\n",
       "      <td>2022</td>\n",
       "      <td>Journal of Financial Planning</td>\n",
       "      <td>Interest rates , Financial management , Finan...</td>\n",
       "      <td>ProQuest One Academic</td>\n",
       "      <td>[PhD]</td>\n",
       "      <td>Academic</td>\n",
       "    </tr>\n",
       "    <tr>\n",
       "      <th>3</th>\n",
       "      <td>Inflation Uncertainty Calls for Portfolio Prot...</td>\n",
       "      <td>Inflation currently sits at 7.9 percent, havin...</td>\n",
       "      <td>Marotta, Ryann, CFP®, CFA</td>\n",
       "      <td>Journal Article</td>\n",
       "      <td>May</td>\n",
       "      <td>2022</td>\n",
       "      <td>Journal of Financial Planning</td>\n",
       "      <td>Investors , Investments , Pandemics , Monetar...</td>\n",
       "      <td>ProQuest One Academic</td>\n",
       "      <td>[CFP, CFA]</td>\n",
       "      <td>Practitioner</td>\n",
       "    </tr>\n",
       "    <tr>\n",
       "      <th>4</th>\n",
       "      <td>Financial Planners' Gray Divorce Checklist</td>\n",
       "      <td>Divorce today is less common for adults younge...</td>\n",
       "      <td>Stephenson, Angie M, CFP®, CPA/PFS</td>\n",
       "      <td>Journal Article</td>\n",
       "      <td>May</td>\n",
       "      <td>2022</td>\n",
       "      <td>Journal of Financial Planning</td>\n",
       "      <td>Divorce , Marital separation , Marriage , Tax...</td>\n",
       "      <td>ProQuest One Academic</td>\n",
       "      <td>[CFP, CPA]</td>\n",
       "      <td>Practitioner</td>\n",
       "    </tr>\n",
       "  </tbody>\n",
       "</table>\n",
       "</div>"
      ],
      "text/plain": [
       "                                               Title  \\\n",
       "0     How Do Commodities Fit into Client Portfolios?   \n",
       "1  The Role of Financial Planners on African Amer...   \n",
       "2  How to Effectively Manage Six \"Oh Bleep\" Clien...   \n",
       "3  Inflation Uncertainty Calls for Portfolio Prot...   \n",
       "4         Financial Planners' Gray Divorce Checklist   \n",
       "\n",
       "                                            Abstract  \\\n",
       "0  The standard stock--bond portfolio mix remains...   \n",
       "1  * Addressing the issue of \"wealth gap,\" partic...   \n",
       "2  Managing difficult client situations is part o...   \n",
       "3  Inflation currently sits at 7.9 percent, havin...   \n",
       "4  Divorce today is less common for adults younge...   \n",
       "\n",
       "                                             Authors      documentType  \\\n",
       "0            Fink, Jason D, PhD;Fink, Kristin E, PhD        Commentary   \n",
       "1  Chen, Leon, PhD, FRM;Duffy, Sophia, JD, CPA;Hi...        Commentary   \n",
       "2                                   Heye, Chris, PhD   Journal Article   \n",
       "3                          Marotta, Ryann, CFP®, CFA   Journal Article   \n",
       "4                 Stephenson, Angie M, CFP®, CPA/PFS   Journal Article   \n",
       "\n",
       "  pub_month  pub_year                       pubtitle  \\\n",
       "0       Oct      2022  Journal of Financial Planning   \n",
       "1       Nov      2022  Journal of Financial Planning   \n",
       "2       May      2022  Journal of Financial Planning   \n",
       "3       May      2022  Journal of Financial Planning   \n",
       "4       May      2022  Journal of Financial Planning   \n",
       "\n",
       "                                        subjectTerms               Database  \\\n",
       "0   Financial planning , Investment , Bonds , Sto...  ProQuest One Academic   \n",
       "1   Credit , Small business , Wealth distribution...  ProQuest One Academic   \n",
       "2   Interest rates , Financial management , Finan...  ProQuest One Academic   \n",
       "3   Investors , Investments , Pandemics , Monetar...  ProQuest One Academic   \n",
       "4   Divorce , Marital separation , Marriage , Tax...  ProQuest One Academic   \n",
       "\n",
       "                Credentials target_grouping  \n",
       "0                [PhD, PhD]        Academic  \n",
       "1  [PhD, JD, CPA, PhD, CFP]        Academic  \n",
       "2                     [PhD]        Academic  \n",
       "3                [CFP, CFA]    Practitioner  \n",
       "4                [CFP, CPA]    Practitioner  "
      ]
     },
     "execution_count": 8,
     "metadata": {},
     "output_type": "execute_result"
    }
   ],
   "source": [
    "df.head()"
   ]
  },
  {
   "cell_type": "code",
   "execution_count": 9,
   "metadata": {},
   "outputs": [],
   "source": [
    "X = df.Abstract\n",
    "y = df.target_grouping"
   ]
  },
  {
   "cell_type": "code",
   "execution_count": 10,
   "metadata": {},
   "outputs": [
    {
     "data": {
      "text/plain": [
       "((2608,), (2608,))"
      ]
     },
     "execution_count": 10,
     "metadata": {},
     "output_type": "execute_result"
    }
   ],
   "source": [
    "X.shape, y.shape"
   ]
  },
  {
   "cell_type": "code",
   "execution_count": 11,
   "metadata": {},
   "outputs": [
    {
     "data": {
      "text/plain": [
       "target_grouping\n",
       "Practitioner    1620\n",
       "Academic         988\n",
       "Name: count, dtype: int64"
      ]
     },
     "execution_count": 11,
     "metadata": {},
     "output_type": "execute_result"
    }
   ],
   "source": [
    "y.value_counts()"
   ]
  },
  {
   "cell_type": "code",
   "execution_count": 11,
   "metadata": {},
   "outputs": [],
   "source": [
    "y.value_counts().to_csv(\"../results/binary_target_distribution.csv\")"
   ]
  },
  {
   "cell_type": "markdown",
   "metadata": {},
   "source": [
    "## Encode Target"
   ]
  },
  {
   "cell_type": "code",
   "execution_count": 12,
   "metadata": {},
   "outputs": [],
   "source": [
    "encoder = LabelEncoder()\n",
    "y = encoder.fit_transform(y)"
   ]
  },
  {
   "cell_type": "code",
   "execution_count": 13,
   "metadata": {},
   "outputs": [
    {
     "data": {
      "text/plain": [
       "array(['Academic', 'Practitioner'], dtype=object)"
      ]
     },
     "execution_count": 13,
     "metadata": {},
     "output_type": "execute_result"
    }
   ],
   "source": [
    "encoder.classes_"
   ]
  },
  {
   "cell_type": "markdown",
   "metadata": {},
   "source": [
    "## Create Pipeline"
   ]
  },
  {
   "cell_type": "code",
   "execution_count": 14,
   "metadata": {},
   "outputs": [],
   "source": [
    "pipeline = Pipeline([\n",
    "    (\"vectorizer\", TfidfVectorizer()),\n",
    "    #(\"scaler\", StandardScaler(with_mean=False))\n",
    "])\n",
    "\n",
    "models = [LogisticRegression(), MultinomialNB(), DecisionTreeClassifier(), RandomForestClassifier()]\n",
    "\n",
    "pipelines = [Pipeline([\n",
    "    (\"vectorizer\", TfidfVectorizer()),\n",
    "    #(\"scaler\", StandardScaler(with_mean=False)),\n",
    "    (\"classifier\", model)\n",
    "    ]) for model in models]"
   ]
  },
  {
   "cell_type": "code",
   "execution_count": 15,
   "metadata": {},
   "outputs": [
    {
     "data": {
      "text/plain": [
       "[Pipeline(steps=[('vectorizer', TfidfVectorizer()),\n",
       "                 ('classifier', LogisticRegression())]),\n",
       " Pipeline(steps=[('vectorizer', TfidfVectorizer()),\n",
       "                 ('classifier', MultinomialNB())]),\n",
       " Pipeline(steps=[('vectorizer', TfidfVectorizer()),\n",
       "                 ('classifier', DecisionTreeClassifier())]),\n",
       " Pipeline(steps=[('vectorizer', TfidfVectorizer()),\n",
       "                 ('classifier', RandomForestClassifier())])]"
      ]
     },
     "execution_count": 15,
     "metadata": {},
     "output_type": "execute_result"
    }
   ],
   "source": [
    "pipelines"
   ]
  },
  {
   "cell_type": "markdown",
   "metadata": {},
   "source": [
    "## Cross Validation"
   ]
  },
  {
   "cell_type": "code",
   "execution_count": 16,
   "metadata": {},
   "outputs": [],
   "source": [
    "results = [cross_validate(pipeline, X, y, scoring=[\"precision\", \"recall\", \"accuracy\"], cv=5, n_jobs=-1) for pipeline in pipelines]"
   ]
  },
  {
   "cell_type": "code",
   "execution_count": 17,
   "metadata": {},
   "outputs": [],
   "source": [
    "result_df = pd.DataFrame({\n",
    "    \"model\": models,\n",
    "    \"avg_precision\": [result[\"test_precision\"].mean() for result in results],\n",
    "    \"avg_recall\": [result[\"test_recall\"].mean() for result in results],\n",
    "    \"avg_accuracy\": [result[\"test_accuracy\"].mean() for result in results]\n",
    "})"
   ]
  },
  {
   "cell_type": "code",
   "execution_count": 18,
   "metadata": {},
   "outputs": [
    {
     "data": {
      "text/html": [
       "<div>\n",
       "<style scoped>\n",
       "    .dataframe tbody tr th:only-of-type {\n",
       "        vertical-align: middle;\n",
       "    }\n",
       "\n",
       "    .dataframe tbody tr th {\n",
       "        vertical-align: top;\n",
       "    }\n",
       "\n",
       "    .dataframe thead th {\n",
       "        text-align: right;\n",
       "    }\n",
       "</style>\n",
       "<table border=\"1\" class=\"dataframe\">\n",
       "  <thead>\n",
       "    <tr style=\"text-align: right;\">\n",
       "      <th></th>\n",
       "      <th>model</th>\n",
       "      <th>avg_precision</th>\n",
       "      <th>avg_recall</th>\n",
       "      <th>avg_accuracy</th>\n",
       "    </tr>\n",
       "  </thead>\n",
       "  <tbody>\n",
       "    <tr>\n",
       "      <th>0</th>\n",
       "      <td>LogisticRegression()</td>\n",
       "      <td>0.754157</td>\n",
       "      <td>0.910937</td>\n",
       "      <td>0.756641</td>\n",
       "    </tr>\n",
       "    <tr>\n",
       "      <th>1</th>\n",
       "      <td>MultinomialNB()</td>\n",
       "      <td>0.671811</td>\n",
       "      <td>0.982722</td>\n",
       "      <td>0.687273</td>\n",
       "    </tr>\n",
       "    <tr>\n",
       "      <th>2</th>\n",
       "      <td>DecisionTreeClassifier()</td>\n",
       "      <td>0.731470</td>\n",
       "      <td>0.720749</td>\n",
       "      <td>0.659878</td>\n",
       "    </tr>\n",
       "    <tr>\n",
       "      <th>3</th>\n",
       "      <td>RandomForestClassifier()</td>\n",
       "      <td>0.754647</td>\n",
       "      <td>0.913597</td>\n",
       "      <td>0.757058</td>\n",
       "    </tr>\n",
       "  </tbody>\n",
       "</table>\n",
       "</div>"
      ],
      "text/plain": [
       "                      model  avg_precision  avg_recall  avg_accuracy\n",
       "0      LogisticRegression()       0.754157    0.910937      0.756641\n",
       "1           MultinomialNB()       0.671811    0.982722      0.687273\n",
       "2  DecisionTreeClassifier()       0.731470    0.720749      0.659878\n",
       "3  RandomForestClassifier()       0.754647    0.913597      0.757058"
      ]
     },
     "execution_count": 18,
     "metadata": {},
     "output_type": "execute_result"
    }
   ],
   "source": [
    "result_df"
   ]
  },
  {
   "cell_type": "markdown",
   "metadata": {},
   "source": [
    "## Save Results"
   ]
  },
  {
   "cell_type": "code",
   "execution_count": 19,
   "metadata": {},
   "outputs": [],
   "source": [
    "result_df.to_csv(\"../results/binary_baseline_model_results.csv\", index=False)"
   ]
  }
 ],
 "metadata": {
  "kernelspec": {
   "display_name": "Python 3",
   "language": "python",
   "name": "python3"
  },
  "language_info": {
   "codemirror_mode": {
    "name": "ipython",
    "version": 3
   },
   "file_extension": ".py",
   "mimetype": "text/x-python",
   "name": "python",
   "nbconvert_exporter": "python",
   "pygments_lexer": "ipython3",
   "version": "3.12.6"
  },
  "orig_nbformat": 4
 },
 "nbformat": 4,
 "nbformat_minor": 2
}
