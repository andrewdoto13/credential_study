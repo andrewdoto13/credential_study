{
 "cells": [
  {
   "cell_type": "markdown",
   "metadata": {},
   "source": [
    "## Import Libraries"
   ]
  },
  {
   "cell_type": "code",
   "execution_count": 45,
   "metadata": {},
   "outputs": [
    {
     "name": "stdout",
     "output_type": "stream",
     "text": [
      "1.6.1\n",
      "2.2.0\n",
      "2.2.3\n"
     ]
    }
   ],
   "source": [
    "import numpy as np\n",
    "import pandas as pd\n",
    "import re\n",
    "\n",
    "import sklearn\n",
    "from sklearn.feature_extraction.text import TfidfVectorizer\n",
    "from sklearn.pipeline import Pipeline\n",
    "from sklearn.linear_model import LogisticRegression\n",
    "from sklearn.tree import DecisionTreeClassifier\n",
    "from sklearn.ensemble import RandomForestClassifier, HistGradientBoostingClassifier\n",
    "from sklearn.naive_bayes import MultinomialNB\n",
    "from sklearn.preprocessing import LabelEncoder, StandardScaler\n",
    "from sklearn.model_selection import train_test_split, cross_validate\n",
    "from sklearn.metrics import classification_report\n",
    "\n",
    "np.random.seed(13)\n",
    "print(sklearn.__version__)\n",
    "print(np.__version__)\n",
    "print(pd.__version__)"
   ]
  },
  {
   "cell_type": "markdown",
   "metadata": {},
   "source": [
    "## Import data"
   ]
  },
  {
   "cell_type": "code",
   "execution_count": 2,
   "metadata": {},
   "outputs": [],
   "source": [
    "df = pd.read_csv(\"../data/JFP Credential Data_All_Journals_Final_1.2025.csv\")"
   ]
  },
  {
   "cell_type": "code",
   "execution_count": 3,
   "metadata": {},
   "outputs": [
    {
     "name": "stdout",
     "output_type": "stream",
     "text": [
      "<class 'pandas.core.frame.DataFrame'>\n",
      "RangeIndex: 5630 entries, 0 to 5629\n",
      "Data columns (total 9 columns):\n",
      " #   Column        Non-Null Count  Dtype \n",
      "---  ------        --------------  ----- \n",
      " 0   Title         5630 non-null   object\n",
      " 1   Abstract      4046 non-null   object\n",
      " 2   Authors       5466 non-null   object\n",
      " 3   documentType  5630 non-null   object\n",
      " 4   pub_month     5337 non-null   object\n",
      " 5   pub_year      5630 non-null   int64 \n",
      " 6   pubtitle      5630 non-null   object\n",
      " 7   subjectTerms  4067 non-null   object\n",
      " 8   Database      5630 non-null   object\n",
      "dtypes: int64(1), object(8)\n",
      "memory usage: 396.0+ KB\n"
     ]
    }
   ],
   "source": [
    "df.info()"
   ]
  },
  {
   "cell_type": "markdown",
   "metadata": {},
   "source": [
    "## Extract Credentials"
   ]
  },
  {
   "cell_type": "code",
   "execution_count": 4,
   "metadata": {},
   "outputs": [],
   "source": [
    "df[\"Credentials\"] = (df\n",
    "                     .Authors\n",
    "                     .apply(lambda x: re.findall(r\"(CFP|PhD|CFA|JD|CPA|CLU|ChFC|LLM|AIF|CRC)\", str(x)))\n",
    "                     .apply(lambda x: np.nan if len(x) == 0 else x)\n",
    "                     )"
   ]
  },
  {
   "cell_type": "markdown",
   "metadata": {},
   "source": [
    "## Group Credentials into target groups"
   ]
  },
  {
   "cell_type": "code",
   "execution_count": 5,
   "metadata": {},
   "outputs": [],
   "source": [
    "def target_grouping(x):\n",
    "    if type(x) != list:\n",
    "        return np.nan\n",
    "    elif \"PhD\" in set(x):\n",
    "        return \"Academic\"\n",
    "    else:\n",
    "        return \"Practitioner\"\n",
    "\n",
    "df[\"target_grouping\"] = df.Credentials.apply(target_grouping)"
   ]
  },
  {
   "cell_type": "markdown",
   "metadata": {},
   "source": [
    "## Drop nulls"
   ]
  },
  {
   "cell_type": "code",
   "execution_count": 6,
   "metadata": {},
   "outputs": [],
   "source": [
    "df = df.dropna(subset=[\"target_grouping\", \"Abstract\"]).reset_index(drop=True)"
   ]
  },
  {
   "cell_type": "code",
   "execution_count": 7,
   "metadata": {},
   "outputs": [
    {
     "data": {
      "text/html": [
       "<div>\n",
       "<style scoped>\n",
       "    .dataframe tbody tr th:only-of-type {\n",
       "        vertical-align: middle;\n",
       "    }\n",
       "\n",
       "    .dataframe tbody tr th {\n",
       "        vertical-align: top;\n",
       "    }\n",
       "\n",
       "    .dataframe thead th {\n",
       "        text-align: right;\n",
       "    }\n",
       "</style>\n",
       "<table border=\"1\" class=\"dataframe\">\n",
       "  <thead>\n",
       "    <tr style=\"text-align: right;\">\n",
       "      <th></th>\n",
       "      <th>Title</th>\n",
       "      <th>Abstract</th>\n",
       "      <th>Authors</th>\n",
       "      <th>documentType</th>\n",
       "      <th>pub_month</th>\n",
       "      <th>pub_year</th>\n",
       "      <th>pubtitle</th>\n",
       "      <th>subjectTerms</th>\n",
       "      <th>Database</th>\n",
       "      <th>Credentials</th>\n",
       "      <th>target_grouping</th>\n",
       "    </tr>\n",
       "  </thead>\n",
       "  <tbody>\n",
       "    <tr>\n",
       "      <th>0</th>\n",
       "      <td>How Do Commodities Fit into Client Portfolios?</td>\n",
       "      <td>The standard stock--bond portfolio mix remains...</td>\n",
       "      <td>Fink, Jason D, PhD;Fink, Kristin E, PhD</td>\n",
       "      <td>Commentary</td>\n",
       "      <td>Oct</td>\n",
       "      <td>2022</td>\n",
       "      <td>Journal of Financial Planning</td>\n",
       "      <td>Financial planning , Investment , Bonds , Sto...</td>\n",
       "      <td>ProQuest One Academic</td>\n",
       "      <td>[PhD, PhD]</td>\n",
       "      <td>Academic</td>\n",
       "    </tr>\n",
       "    <tr>\n",
       "      <th>1</th>\n",
       "      <td>The Role of Financial Planners on African Amer...</td>\n",
       "      <td>* Addressing the issue of \"wealth gap,\" partic...</td>\n",
       "      <td>Chen, Leon, PhD, FRM;Duffy, Sophia, JD, CPA;Hi...</td>\n",
       "      <td>Commentary</td>\n",
       "      <td>Nov</td>\n",
       "      <td>2022</td>\n",
       "      <td>Journal of Financial Planning</td>\n",
       "      <td>Credit , Small business , Wealth distribution...</td>\n",
       "      <td>ProQuest One Academic</td>\n",
       "      <td>[PhD, JD, CPA, PhD, CFP]</td>\n",
       "      <td>Academic</td>\n",
       "    </tr>\n",
       "    <tr>\n",
       "      <th>2</th>\n",
       "      <td>How to Effectively Manage Six \"Oh Bleep\" Clien...</td>\n",
       "      <td>Managing difficult client situations is part o...</td>\n",
       "      <td>Heye, Chris, PhD</td>\n",
       "      <td>Journal Article</td>\n",
       "      <td>May</td>\n",
       "      <td>2022</td>\n",
       "      <td>Journal of Financial Planning</td>\n",
       "      <td>Interest rates , Financial management , Finan...</td>\n",
       "      <td>ProQuest One Academic</td>\n",
       "      <td>[PhD]</td>\n",
       "      <td>Academic</td>\n",
       "    </tr>\n",
       "    <tr>\n",
       "      <th>3</th>\n",
       "      <td>Inflation Uncertainty Calls for Portfolio Prot...</td>\n",
       "      <td>Inflation currently sits at 7.9 percent, havin...</td>\n",
       "      <td>Marotta, Ryann, CFP®, CFA</td>\n",
       "      <td>Journal Article</td>\n",
       "      <td>May</td>\n",
       "      <td>2022</td>\n",
       "      <td>Journal of Financial Planning</td>\n",
       "      <td>Investors , Investments , Pandemics , Monetar...</td>\n",
       "      <td>ProQuest One Academic</td>\n",
       "      <td>[CFP, CFA]</td>\n",
       "      <td>Practitioner</td>\n",
       "    </tr>\n",
       "    <tr>\n",
       "      <th>4</th>\n",
       "      <td>Financial Planners' Gray Divorce Checklist</td>\n",
       "      <td>Divorce today is less common for adults younge...</td>\n",
       "      <td>Stephenson, Angie M, CFP®, CPA/PFS</td>\n",
       "      <td>Journal Article</td>\n",
       "      <td>May</td>\n",
       "      <td>2022</td>\n",
       "      <td>Journal of Financial Planning</td>\n",
       "      <td>Divorce , Marital separation , Marriage , Tax...</td>\n",
       "      <td>ProQuest One Academic</td>\n",
       "      <td>[CFP, CPA]</td>\n",
       "      <td>Practitioner</td>\n",
       "    </tr>\n",
       "  </tbody>\n",
       "</table>\n",
       "</div>"
      ],
      "text/plain": [
       "                                               Title  \\\n",
       "0     How Do Commodities Fit into Client Portfolios?   \n",
       "1  The Role of Financial Planners on African Amer...   \n",
       "2  How to Effectively Manage Six \"Oh Bleep\" Clien...   \n",
       "3  Inflation Uncertainty Calls for Portfolio Prot...   \n",
       "4         Financial Planners' Gray Divorce Checklist   \n",
       "\n",
       "                                            Abstract  \\\n",
       "0  The standard stock--bond portfolio mix remains...   \n",
       "1  * Addressing the issue of \"wealth gap,\" partic...   \n",
       "2  Managing difficult client situations is part o...   \n",
       "3  Inflation currently sits at 7.9 percent, havin...   \n",
       "4  Divorce today is less common for adults younge...   \n",
       "\n",
       "                                             Authors      documentType  \\\n",
       "0            Fink, Jason D, PhD;Fink, Kristin E, PhD        Commentary   \n",
       "1  Chen, Leon, PhD, FRM;Duffy, Sophia, JD, CPA;Hi...        Commentary   \n",
       "2                                   Heye, Chris, PhD   Journal Article   \n",
       "3                          Marotta, Ryann, CFP®, CFA   Journal Article   \n",
       "4                 Stephenson, Angie M, CFP®, CPA/PFS   Journal Article   \n",
       "\n",
       "  pub_month  pub_year                       pubtitle  \\\n",
       "0       Oct      2022  Journal of Financial Planning   \n",
       "1       Nov      2022  Journal of Financial Planning   \n",
       "2       May      2022  Journal of Financial Planning   \n",
       "3       May      2022  Journal of Financial Planning   \n",
       "4       May      2022  Journal of Financial Planning   \n",
       "\n",
       "                                        subjectTerms               Database  \\\n",
       "0   Financial planning , Investment , Bonds , Sto...  ProQuest One Academic   \n",
       "1   Credit , Small business , Wealth distribution...  ProQuest One Academic   \n",
       "2   Interest rates , Financial management , Finan...  ProQuest One Academic   \n",
       "3   Investors , Investments , Pandemics , Monetar...  ProQuest One Academic   \n",
       "4   Divorce , Marital separation , Marriage , Tax...  ProQuest One Academic   \n",
       "\n",
       "                Credentials target_grouping  \n",
       "0                [PhD, PhD]        Academic  \n",
       "1  [PhD, JD, CPA, PhD, CFP]        Academic  \n",
       "2                     [PhD]        Academic  \n",
       "3                [CFP, CFA]    Practitioner  \n",
       "4                [CFP, CPA]    Practitioner  "
      ]
     },
     "execution_count": 7,
     "metadata": {},
     "output_type": "execute_result"
    }
   ],
   "source": [
    "df.head()"
   ]
  },
  {
   "cell_type": "code",
   "execution_count": 8,
   "metadata": {},
   "outputs": [],
   "source": [
    "X = df.Abstract\n",
    "y = df.target_grouping"
   ]
  },
  {
   "cell_type": "code",
   "execution_count": 9,
   "metadata": {},
   "outputs": [
    {
     "data": {
      "text/plain": [
       "((2608,), (2608,))"
      ]
     },
     "execution_count": 9,
     "metadata": {},
     "output_type": "execute_result"
    }
   ],
   "source": [
    "X.shape, y.shape"
   ]
  },
  {
   "cell_type": "code",
   "execution_count": 10,
   "metadata": {},
   "outputs": [
    {
     "data": {
      "text/plain": [
       "target_grouping\n",
       "Practitioner    1620\n",
       "Academic         988\n",
       "Name: count, dtype: int64"
      ]
     },
     "execution_count": 10,
     "metadata": {},
     "output_type": "execute_result"
    }
   ],
   "source": [
    "y.value_counts()"
   ]
  },
  {
   "cell_type": "code",
   "execution_count": 11,
   "metadata": {},
   "outputs": [],
   "source": [
    "y.value_counts().to_csv(\"../results/binary_target_distribution.csv\")"
   ]
  },
  {
   "cell_type": "markdown",
   "metadata": {},
   "source": [
    "## Encode Target"
   ]
  },
  {
   "cell_type": "code",
   "execution_count": 12,
   "metadata": {},
   "outputs": [],
   "source": [
    "encoder = LabelEncoder()\n",
    "y = encoder.fit_transform(y)"
   ]
  },
  {
   "cell_type": "code",
   "execution_count": 13,
   "metadata": {},
   "outputs": [
    {
     "data": {
      "text/plain": [
       "array(['Academic', 'Practitioner'], dtype=object)"
      ]
     },
     "execution_count": 13,
     "metadata": {},
     "output_type": "execute_result"
    }
   ],
   "source": [
    "encoder.classes_"
   ]
  },
  {
   "cell_type": "markdown",
   "metadata": {},
   "source": [
    "## Create Pipeline"
   ]
  },
  {
   "cell_type": "code",
   "execution_count": 34,
   "metadata": {},
   "outputs": [],
   "source": [
    "models = [LogisticRegression(class_weight=\"balanced\"), \n",
    "          DecisionTreeClassifier(class_weight=\"balanced\"), \n",
    "          RandomForestClassifier(class_weight=\"balanced\"),\n",
    "          HistGradientBoostingClassifier(class_weight=\"balanced\")]\n",
    "\n",
    "# Define the custom transformer\n",
    "class DenseTransformer:\n",
    "    def fit(self, X, y=None):\n",
    "        return self\n",
    "\n",
    "    def transform(self, X):\n",
    "        # make the array dense\n",
    "        X = X.toarray()\n",
    "        return X\n",
    "\n",
    "pipelines = [Pipeline([\n",
    "    (\"vectorizer\", TfidfVectorizer()),\n",
    "    (\"densify\", DenseTransformer()),\n",
    "    (\"classifier\", model)\n",
    "    ]) for model in models]"
   ]
  },
  {
   "cell_type": "code",
   "execution_count": 36,
   "metadata": {},
   "outputs": [
    {
     "data": {
      "text/plain": [
       "[Pipeline(steps=[('vectorizer', TfidfVectorizer()),\n",
       "                 ('densify',\n",
       "                  <__main__.DenseTransformer object at 0x00000267AF92BEC0>),\n",
       "                 ('classifier', LogisticRegression(class_weight='balanced'))]),\n",
       " Pipeline(steps=[('vectorizer', TfidfVectorizer()),\n",
       "                 ('densify',\n",
       "                  <__main__.DenseTransformer object at 0x00000267AF89BE00>),\n",
       "                 ('classifier',\n",
       "                  DecisionTreeClassifier(class_weight='balanced'))]),\n",
       " Pipeline(steps=[('vectorizer', TfidfVectorizer()),\n",
       "                 ('densify',\n",
       "                  <__main__.DenseTransformer object at 0x00000267AF898FE0>),\n",
       "                 ('classifier',\n",
       "                  RandomForestClassifier(class_weight='balanced'))]),\n",
       " Pipeline(steps=[('vectorizer', TfidfVectorizer()),\n",
       "                 ('densify',\n",
       "                  <__main__.DenseTransformer object at 0x00000267AF89BC20>),\n",
       "                 ('classifier',\n",
       "                  HistGradientBoostingClassifier(class_weight='balanced'))])]"
      ]
     },
     "execution_count": 36,
     "metadata": {},
     "output_type": "execute_result"
    }
   ],
   "source": [
    "pipelines"
   ]
  },
  {
   "cell_type": "markdown",
   "metadata": {},
   "source": [
    "## Cross Validation"
   ]
  },
  {
   "cell_type": "code",
   "execution_count": 37,
   "metadata": {},
   "outputs": [],
   "source": [
    "results = [cross_validate(pipeline, X, y, scoring=[\"precision\", \"recall\", \"accuracy\", \"f1\"], cv=5, n_jobs=-1) for pipeline in pipelines]"
   ]
  },
  {
   "cell_type": "code",
   "execution_count": 38,
   "metadata": {},
   "outputs": [],
   "source": [
    "result_df = pd.DataFrame({\n",
    "    \"model\": models,\n",
    "    \"avg_precision\": [result[\"test_precision\"].mean() for result in results],\n",
    "    \"avg_recall\": [result[\"test_recall\"].mean() for result in results],\n",
    "    \"avg_f1\": [result[\"test_f1\"].mean() for result in results],\n",
    "    \"avg_accuracy\": [result[\"test_accuracy\"].mean() for result in results]\n",
    "})"
   ]
  },
  {
   "cell_type": "code",
   "execution_count": 39,
   "metadata": {},
   "outputs": [
    {
     "data": {
      "text/html": [
       "<div>\n",
       "<style scoped>\n",
       "    .dataframe tbody tr th:only-of-type {\n",
       "        vertical-align: middle;\n",
       "    }\n",
       "\n",
       "    .dataframe tbody tr th {\n",
       "        vertical-align: top;\n",
       "    }\n",
       "\n",
       "    .dataframe thead th {\n",
       "        text-align: right;\n",
       "    }\n",
       "</style>\n",
       "<table border=\"1\" class=\"dataframe\">\n",
       "  <thead>\n",
       "    <tr style=\"text-align: right;\">\n",
       "      <th></th>\n",
       "      <th>model</th>\n",
       "      <th>avg_precision</th>\n",
       "      <th>avg_recall</th>\n",
       "      <th>avg_f1</th>\n",
       "      <th>avg_accuracy</th>\n",
       "    </tr>\n",
       "  </thead>\n",
       "  <tbody>\n",
       "    <tr>\n",
       "      <th>0</th>\n",
       "      <td>LogisticRegression(class_weight='balanced')</td>\n",
       "      <td>0.818879</td>\n",
       "      <td>0.800000</td>\n",
       "      <td>0.809124</td>\n",
       "      <td>0.766089</td>\n",
       "    </tr>\n",
       "    <tr>\n",
       "      <th>1</th>\n",
       "      <td>DecisionTreeClassifier(class_weight='balanced')</td>\n",
       "      <td>0.725217</td>\n",
       "      <td>0.718519</td>\n",
       "      <td>0.721650</td>\n",
       "      <td>0.656045</td>\n",
       "    </tr>\n",
       "    <tr>\n",
       "      <th>2</th>\n",
       "      <td>RandomForestClassifier(class_weight='balanced')</td>\n",
       "      <td>0.758841</td>\n",
       "      <td>0.917901</td>\n",
       "      <td>0.830509</td>\n",
       "      <td>0.767620</td>\n",
       "    </tr>\n",
       "    <tr>\n",
       "      <th>3</th>\n",
       "      <td>HistGradientBoostingClassifier(class_weight='b...</td>\n",
       "      <td>0.804640</td>\n",
       "      <td>0.829012</td>\n",
       "      <td>0.816329</td>\n",
       "      <td>0.768393</td>\n",
       "    </tr>\n",
       "  </tbody>\n",
       "</table>\n",
       "</div>"
      ],
      "text/plain": [
       "                                               model  avg_precision  \\\n",
       "0        LogisticRegression(class_weight='balanced')       0.818879   \n",
       "1    DecisionTreeClassifier(class_weight='balanced')       0.725217   \n",
       "2    RandomForestClassifier(class_weight='balanced')       0.758841   \n",
       "3  HistGradientBoostingClassifier(class_weight='b...       0.804640   \n",
       "\n",
       "   avg_recall    avg_f1  avg_accuracy  \n",
       "0    0.800000  0.809124      0.766089  \n",
       "1    0.718519  0.721650      0.656045  \n",
       "2    0.917901  0.830509      0.767620  \n",
       "3    0.829012  0.816329      0.768393  "
      ]
     },
     "execution_count": 39,
     "metadata": {},
     "output_type": "execute_result"
    }
   ],
   "source": [
    "result_df"
   ]
  },
  {
   "cell_type": "code",
   "execution_count": 41,
   "metadata": {},
   "outputs": [],
   "source": [
    "X_train, X_test, y_train, y_test = train_test_split(X, y, stratify=y)"
   ]
  },
  {
   "cell_type": "code",
   "execution_count": 44,
   "metadata": {},
   "outputs": [
    {
     "name": "stdout",
     "output_type": "stream",
     "text": [
      "Train set shape: (1956,)\n",
      "Test set shape: (652,)\n"
     ]
    }
   ],
   "source": [
    "print(f\"Train set shape: {X_train.shape}\")\n",
    "print(f\"Test set shape: {X_test.shape}\")"
   ]
  },
  {
   "cell_type": "code",
   "execution_count": 49,
   "metadata": {},
   "outputs": [
    {
     "name": "stdout",
     "output_type": "stream",
     "text": [
      "Logistic Regression Classification Report\n"
     ]
    },
    {
     "data": {
      "text/html": [
       "<div>\n",
       "<style scoped>\n",
       "    .dataframe tbody tr th:only-of-type {\n",
       "        vertical-align: middle;\n",
       "    }\n",
       "\n",
       "    .dataframe tbody tr th {\n",
       "        vertical-align: top;\n",
       "    }\n",
       "\n",
       "    .dataframe thead th {\n",
       "        text-align: right;\n",
       "    }\n",
       "</style>\n",
       "<table border=\"1\" class=\"dataframe\">\n",
       "  <thead>\n",
       "    <tr style=\"text-align: right;\">\n",
       "      <th></th>\n",
       "      <th>Academic</th>\n",
       "      <th>Practitioner</th>\n",
       "      <th>accuracy</th>\n",
       "      <th>macro avg</th>\n",
       "      <th>weighted avg</th>\n",
       "    </tr>\n",
       "  </thead>\n",
       "  <tbody>\n",
       "    <tr>\n",
       "      <th>precision</th>\n",
       "      <td>0.736264</td>\n",
       "      <td>0.878628</td>\n",
       "      <td>0.819018</td>\n",
       "      <td>0.807446</td>\n",
       "      <td>0.824696</td>\n",
       "    </tr>\n",
       "    <tr>\n",
       "      <th>recall</th>\n",
       "      <td>0.813765</td>\n",
       "      <td>0.822222</td>\n",
       "      <td>0.819018</td>\n",
       "      <td>0.817994</td>\n",
       "      <td>0.819018</td>\n",
       "    </tr>\n",
       "    <tr>\n",
       "      <th>f1-score</th>\n",
       "      <td>0.773077</td>\n",
       "      <td>0.849490</td>\n",
       "      <td>0.819018</td>\n",
       "      <td>0.811283</td>\n",
       "      <td>0.820542</td>\n",
       "    </tr>\n",
       "    <tr>\n",
       "      <th>support</th>\n",
       "      <td>247.000000</td>\n",
       "      <td>405.000000</td>\n",
       "      <td>0.819018</td>\n",
       "      <td>652.000000</td>\n",
       "      <td>652.000000</td>\n",
       "    </tr>\n",
       "  </tbody>\n",
       "</table>\n",
       "</div>"
      ],
      "text/plain": [
       "             Academic  Practitioner  accuracy   macro avg  weighted avg\n",
       "precision    0.736264      0.878628  0.819018    0.807446      0.824696\n",
       "recall       0.813765      0.822222  0.819018    0.817994      0.819018\n",
       "f1-score     0.773077      0.849490  0.819018    0.811283      0.820542\n",
       "support    247.000000    405.000000  0.819018  652.000000    652.000000"
      ]
     },
     "execution_count": 49,
     "metadata": {},
     "output_type": "execute_result"
    }
   ],
   "source": [
    "lr_pipeline = pipelines[0]\n",
    "\n",
    "lr_pipeline.fit(X_train, y_train)\n",
    "\n",
    "y_pred = lr_pipeline.predict(X_test)\n",
    "\n",
    "lr_report = pd.DataFrame(classification_report(y_test, y_pred, output_dict=True, target_names=encoder.classes_))\n",
    "\n",
    "print(\"Logistic Regression Classification Report\")\n",
    "lr_report\n"
   ]
  },
  {
   "cell_type": "code",
   "execution_count": 50,
   "metadata": {},
   "outputs": [
    {
     "name": "stdout",
     "output_type": "stream",
     "text": [
      "Decision Tree Classification Report\n"
     ]
    },
    {
     "data": {
      "text/html": [
       "<div>\n",
       "<style scoped>\n",
       "    .dataframe tbody tr th:only-of-type {\n",
       "        vertical-align: middle;\n",
       "    }\n",
       "\n",
       "    .dataframe tbody tr th {\n",
       "        vertical-align: top;\n",
       "    }\n",
       "\n",
       "    .dataframe thead th {\n",
       "        text-align: right;\n",
       "    }\n",
       "</style>\n",
       "<table border=\"1\" class=\"dataframe\">\n",
       "  <thead>\n",
       "    <tr style=\"text-align: right;\">\n",
       "      <th></th>\n",
       "      <th>Academic</th>\n",
       "      <th>Practitioner</th>\n",
       "      <th>accuracy</th>\n",
       "      <th>macro avg</th>\n",
       "      <th>weighted avg</th>\n",
       "    </tr>\n",
       "  </thead>\n",
       "  <tbody>\n",
       "    <tr>\n",
       "      <th>precision</th>\n",
       "      <td>0.552632</td>\n",
       "      <td>0.740933</td>\n",
       "      <td>0.66411</td>\n",
       "      <td>0.646782</td>\n",
       "      <td>0.669598</td>\n",
       "    </tr>\n",
       "    <tr>\n",
       "      <th>recall</th>\n",
       "      <td>0.595142</td>\n",
       "      <td>0.706173</td>\n",
       "      <td>0.66411</td>\n",
       "      <td>0.650657</td>\n",
       "      <td>0.664110</td>\n",
       "    </tr>\n",
       "    <tr>\n",
       "      <th>f1-score</th>\n",
       "      <td>0.573099</td>\n",
       "      <td>0.723135</td>\n",
       "      <td>0.66411</td>\n",
       "      <td>0.648117</td>\n",
       "      <td>0.666297</td>\n",
       "    </tr>\n",
       "    <tr>\n",
       "      <th>support</th>\n",
       "      <td>247.000000</td>\n",
       "      <td>405.000000</td>\n",
       "      <td>0.66411</td>\n",
       "      <td>652.000000</td>\n",
       "      <td>652.000000</td>\n",
       "    </tr>\n",
       "  </tbody>\n",
       "</table>\n",
       "</div>"
      ],
      "text/plain": [
       "             Academic  Practitioner  accuracy   macro avg  weighted avg\n",
       "precision    0.552632      0.740933   0.66411    0.646782      0.669598\n",
       "recall       0.595142      0.706173   0.66411    0.650657      0.664110\n",
       "f1-score     0.573099      0.723135   0.66411    0.648117      0.666297\n",
       "support    247.000000    405.000000   0.66411  652.000000    652.000000"
      ]
     },
     "execution_count": 50,
     "metadata": {},
     "output_type": "execute_result"
    }
   ],
   "source": [
    "dt_pipeline = pipelines[1]\n",
    "\n",
    "dt_pipeline.fit(X_train, y_train)\n",
    "\n",
    "y_pred = dt_pipeline.predict(X_test)\n",
    "\n",
    "dt_report = pd.DataFrame(classification_report(y_test, y_pred, output_dict=True, target_names=encoder.classes_))\n",
    "\n",
    "print(\"Decision Tree Classification Report\")\n",
    "dt_report"
   ]
  },
  {
   "cell_type": "code",
   "execution_count": 51,
   "metadata": {},
   "outputs": [
    {
     "name": "stdout",
     "output_type": "stream",
     "text": [
      "Random Forest Classification Report\n"
     ]
    },
    {
     "data": {
      "text/html": [
       "<div>\n",
       "<style scoped>\n",
       "    .dataframe tbody tr th:only-of-type {\n",
       "        vertical-align: middle;\n",
       "    }\n",
       "\n",
       "    .dataframe tbody tr th {\n",
       "        vertical-align: top;\n",
       "    }\n",
       "\n",
       "    .dataframe thead th {\n",
       "        text-align: right;\n",
       "    }\n",
       "</style>\n",
       "<table border=\"1\" class=\"dataframe\">\n",
       "  <thead>\n",
       "    <tr style=\"text-align: right;\">\n",
       "      <th></th>\n",
       "      <th>Academic</th>\n",
       "      <th>Practitioner</th>\n",
       "      <th>accuracy</th>\n",
       "      <th>macro avg</th>\n",
       "      <th>weighted avg</th>\n",
       "    </tr>\n",
       "  </thead>\n",
       "  <tbody>\n",
       "    <tr>\n",
       "      <th>precision</th>\n",
       "      <td>0.827381</td>\n",
       "      <td>0.776860</td>\n",
       "      <td>0.789877</td>\n",
       "      <td>0.802120</td>\n",
       "      <td>0.795999</td>\n",
       "    </tr>\n",
       "    <tr>\n",
       "      <th>recall</th>\n",
       "      <td>0.562753</td>\n",
       "      <td>0.928395</td>\n",
       "      <td>0.789877</td>\n",
       "      <td>0.745574</td>\n",
       "      <td>0.789877</td>\n",
       "    </tr>\n",
       "    <tr>\n",
       "      <th>f1-score</th>\n",
       "      <td>0.669880</td>\n",
       "      <td>0.845894</td>\n",
       "      <td>0.789877</td>\n",
       "      <td>0.757887</td>\n",
       "      <td>0.779214</td>\n",
       "    </tr>\n",
       "    <tr>\n",
       "      <th>support</th>\n",
       "      <td>247.000000</td>\n",
       "      <td>405.000000</td>\n",
       "      <td>0.789877</td>\n",
       "      <td>652.000000</td>\n",
       "      <td>652.000000</td>\n",
       "    </tr>\n",
       "  </tbody>\n",
       "</table>\n",
       "</div>"
      ],
      "text/plain": [
       "             Academic  Practitioner  accuracy   macro avg  weighted avg\n",
       "precision    0.827381      0.776860  0.789877    0.802120      0.795999\n",
       "recall       0.562753      0.928395  0.789877    0.745574      0.789877\n",
       "f1-score     0.669880      0.845894  0.789877    0.757887      0.779214\n",
       "support    247.000000    405.000000  0.789877  652.000000    652.000000"
      ]
     },
     "execution_count": 51,
     "metadata": {},
     "output_type": "execute_result"
    }
   ],
   "source": [
    "rf_pipeline = pipelines[2]\n",
    "\n",
    "rf_pipeline.fit(X_train, y_train)\n",
    "\n",
    "y_pred = rf_pipeline.predict(X_test)\n",
    "\n",
    "rf_report = pd.DataFrame(classification_report(y_test, y_pred, output_dict=True, target_names=encoder.classes_))\n",
    "\n",
    "print(\"Random Forest Classification Report\")\n",
    "rf_report"
   ]
  },
  {
   "cell_type": "code",
   "execution_count": 52,
   "metadata": {},
   "outputs": [
    {
     "name": "stderr",
     "output_type": "stream",
     "text": [
      "C:\\Users\\andre\\AppData\\Roaming\\Python\\Python312\\site-packages\\joblib\\externals\\loky\\backend\\context.py:136: UserWarning: Could not find the number of physical cores for the following reason:\n",
      "[WinError 2] The system cannot find the file specified\n",
      "Returning the number of logical cores instead. You can silence this warning by setting LOKY_MAX_CPU_COUNT to the number of cores you want to use.\n",
      "  warnings.warn(\n",
      "  File \"C:\\Users\\andre\\AppData\\Roaming\\Python\\Python312\\site-packages\\joblib\\externals\\loky\\backend\\context.py\", line 257, in _count_physical_cores\n",
      "    cpu_info = subprocess.run(\n",
      "               ^^^^^^^^^^^^^^^\n",
      "  File \"c:\\Python312\\Lib\\subprocess.py\", line 548, in run\n",
      "    with Popen(*popenargs, **kwargs) as process:\n",
      "         ^^^^^^^^^^^^^^^^^^^^^^^^^^^\n",
      "  File \"c:\\Python312\\Lib\\subprocess.py\", line 1026, in __init__\n",
      "    self._execute_child(args, executable, preexec_fn, close_fds,\n",
      "  File \"c:\\Python312\\Lib\\subprocess.py\", line 1538, in _execute_child\n",
      "    hp, ht, pid, tid = _winapi.CreateProcess(executable, args,\n",
      "                       ^^^^^^^^^^^^^^^^^^^^^^^^^^^^^^^^^^^^^^^\n"
     ]
    },
    {
     "name": "stdout",
     "output_type": "stream",
     "text": [
      "Gradient Boosted Trees Classification Report\n"
     ]
    },
    {
     "data": {
      "text/html": [
       "<div>\n",
       "<style scoped>\n",
       "    .dataframe tbody tr th:only-of-type {\n",
       "        vertical-align: middle;\n",
       "    }\n",
       "\n",
       "    .dataframe tbody tr th {\n",
       "        vertical-align: top;\n",
       "    }\n",
       "\n",
       "    .dataframe thead th {\n",
       "        text-align: right;\n",
       "    }\n",
       "</style>\n",
       "<table border=\"1\" class=\"dataframe\">\n",
       "  <thead>\n",
       "    <tr style=\"text-align: right;\">\n",
       "      <th></th>\n",
       "      <th>Academic</th>\n",
       "      <th>Practitioner</th>\n",
       "      <th>accuracy</th>\n",
       "      <th>macro avg</th>\n",
       "      <th>weighted avg</th>\n",
       "    </tr>\n",
       "  </thead>\n",
       "  <tbody>\n",
       "    <tr>\n",
       "      <th>precision</th>\n",
       "      <td>0.738197</td>\n",
       "      <td>0.821002</td>\n",
       "      <td>0.791411</td>\n",
       "      <td>0.779600</td>\n",
       "      <td>0.789633</td>\n",
       "    </tr>\n",
       "    <tr>\n",
       "      <th>recall</th>\n",
       "      <td>0.696356</td>\n",
       "      <td>0.849383</td>\n",
       "      <td>0.791411</td>\n",
       "      <td>0.772869</td>\n",
       "      <td>0.791411</td>\n",
       "    </tr>\n",
       "    <tr>\n",
       "      <th>f1-score</th>\n",
       "      <td>0.716667</td>\n",
       "      <td>0.834951</td>\n",
       "      <td>0.791411</td>\n",
       "      <td>0.775809</td>\n",
       "      <td>0.790141</td>\n",
       "    </tr>\n",
       "    <tr>\n",
       "      <th>support</th>\n",
       "      <td>247.000000</td>\n",
       "      <td>405.000000</td>\n",
       "      <td>0.791411</td>\n",
       "      <td>652.000000</td>\n",
       "      <td>652.000000</td>\n",
       "    </tr>\n",
       "  </tbody>\n",
       "</table>\n",
       "</div>"
      ],
      "text/plain": [
       "             Academic  Practitioner  accuracy   macro avg  weighted avg\n",
       "precision    0.738197      0.821002  0.791411    0.779600      0.789633\n",
       "recall       0.696356      0.849383  0.791411    0.772869      0.791411\n",
       "f1-score     0.716667      0.834951  0.791411    0.775809      0.790141\n",
       "support    247.000000    405.000000  0.791411  652.000000    652.000000"
      ]
     },
     "execution_count": 52,
     "metadata": {},
     "output_type": "execute_result"
    }
   ],
   "source": [
    "gbt_pipeline = pipelines[3]\n",
    "\n",
    "gbt_pipeline.fit(X_train, y_train)\n",
    "\n",
    "y_pred = gbt_pipeline.predict(X_test)\n",
    "\n",
    "gbt_report = pd.DataFrame(classification_report(y_test, y_pred, output_dict=True, target_names=encoder.classes_))\n",
    "\n",
    "print(\"Gradient Boosted Trees Classification Report\")\n",
    "gbt_report"
   ]
  },
  {
   "cell_type": "markdown",
   "metadata": {},
   "source": [
    "## Save Results"
   ]
  },
  {
   "cell_type": "code",
   "execution_count": 40,
   "metadata": {},
   "outputs": [],
   "source": [
    "result_df.to_csv(\"../results/binary_baseline_model_results.csv\", index=False)"
   ]
  }
 ],
 "metadata": {
  "kernelspec": {
   "display_name": "Python 3",
   "language": "python",
   "name": "python3"
  },
  "language_info": {
   "codemirror_mode": {
    "name": "ipython",
    "version": 3
   },
   "file_extension": ".py",
   "mimetype": "text/x-python",
   "name": "python",
   "nbconvert_exporter": "python",
   "pygments_lexer": "ipython3",
   "version": "3.12.6"
  },
  "orig_nbformat": 4
 },
 "nbformat": 4,
 "nbformat_minor": 2
}
