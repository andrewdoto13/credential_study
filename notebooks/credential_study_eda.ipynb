{
 "cells": [
  {
   "cell_type": "markdown",
   "metadata": {},
   "source": [
    "# Credential Study EDA"
   ]
  },
  {
   "cell_type": "markdown",
   "metadata": {},
   "source": [
    "## Import Libraries"
   ]
  },
  {
   "cell_type": "code",
   "execution_count": 9,
   "metadata": {},
   "outputs": [
    {
     "name": "stdout",
     "output_type": "stream",
     "text": [
      "1.0.2\n"
     ]
    }
   ],
   "source": [
    "import numpy as np\n",
    "import pandas as pd\n",
    "import sklearn\n",
    "from sklearn.feature_extraction.text import TfidfVectorizer\n",
    "import re\n",
    "\n",
    "np.random.seed(13)\n",
    "print(sklearn.__version__)"
   ]
  },
  {
   "cell_type": "markdown",
   "metadata": {},
   "source": [
    "## Import Data"
   ]
  },
  {
   "cell_type": "code",
   "execution_count": 10,
   "metadata": {},
   "outputs": [],
   "source": [
    "df = pd.read_csv(\"../data/JFP Credential Data - ProQuest v2.csv\")"
   ]
  },
  {
   "cell_type": "markdown",
   "metadata": {},
   "source": [
    "## Check nulls"
   ]
  },
  {
   "cell_type": "code",
   "execution_count": 11,
   "metadata": {},
   "outputs": [
    {
     "name": "stdout",
     "output_type": "stream",
     "text": [
      "<class 'pandas.core.frame.DataFrame'>\n",
      "RangeIndex: 3409 entries, 0 to 3408\n",
      "Data columns (total 44 columns):\n",
      " #   Column                      Non-Null Count  Dtype \n",
      "---  ------                      --------------  ----- \n",
      " 0   Journal                     3409 non-null   object\n",
      " 1   Title                       3409 non-null   object\n",
      " 2   Abstract                    2112 non-null   object\n",
      " 3   Authors                     3279 non-null   object\n",
      " 4   Tax_Title_Count             3409 non-null   int64 \n",
      " 5   Tax_Title_Binary            3409 non-null   int64 \n",
      " 6   Tax_Abstract_Count          3409 non-null   int64 \n",
      " 7   Tax_Abstract_Binary         3409 non-null   int64 \n",
      " 8   Tax_Total_Count             3409 non-null   int64 \n",
      " 9   Tax_Total_Binary            3409 non-null   int64 \n",
      " 10  Retirement_Title_Count      3409 non-null   int64 \n",
      " 11  Retirement_Title_Binary     3409 non-null   int64 \n",
      " 12  Retirement_Abstract_Count   3409 non-null   int64 \n",
      " 13  Retirement_Abstract_Binary  3409 non-null   int64 \n",
      " 14  Retirement_Total_Count      3409 non-null   int64 \n",
      " 15  Retirmement_Total_Binary    3409 non-null   int64 \n",
      " 16  Client_Title_Count          3409 non-null   int64 \n",
      " 17  Client_Title_Binary         3409 non-null   int64 \n",
      " 18  Client_Abstract_Count       3409 non-null   int64 \n",
      " 19  Client_Abstract_Binary      3409 non-null   int64 \n",
      " 20  Client_Total_Count          3409 non-null   int64 \n",
      " 21  Client_Total_Binary         3409 non-null   int64 \n",
      " 22  CFP_Count                   3409 non-null   int64 \n",
      " 23  CFP_Binary                  3409 non-null   int64 \n",
      " 24  PhD_Count                   3409 non-null   int64 \n",
      " 25  PhD_Binary                  3409 non-null   int64 \n",
      " 26  CFA_Count                   3409 non-null   int64 \n",
      " 27  CFA_Binary                  3409 non-null   int64 \n",
      " 28  JD_Count                    3409 non-null   int64 \n",
      " 29  JD_Binary                   3409 non-null   int64 \n",
      " 30  CPA_Count                   3409 non-null   int64 \n",
      " 31  CPA_Binary                  3409 non-null   int64 \n",
      " 32  CLU_Count                   3409 non-null   int64 \n",
      " 33  CLU_Binary                  3409 non-null   int64 \n",
      " 34  ChFC_Count                  3409 non-null   int64 \n",
      " 35  ChFC_Binary                 3409 non-null   int64 \n",
      " 36  LLM_Count                   3409 non-null   int64 \n",
      " 37  LLM_Binary                  3409 non-null   int64 \n",
      " 38  AIF_Count                   3409 non-null   int64 \n",
      " 39  AIF_Binary                  3409 non-null   int64 \n",
      " 40  CRC_Count                   3409 non-null   int64 \n",
      " 41  CRC_Binary                  3409 non-null   int64 \n",
      " 42  pubdate                     3409 non-null   object\n",
      " 43  year                        3409 non-null   int64 \n",
      "dtypes: int64(39), object(5)\n",
      "memory usage: 1.1+ MB\n"
     ]
    }
   ],
   "source": [
    "df.info()"
   ]
  },
  {
   "cell_type": "markdown",
   "metadata": {},
   "source": [
    "## Extract Credentials"
   ]
  },
  {
   "cell_type": "code",
   "execution_count": 16,
   "metadata": {},
   "outputs": [],
   "source": [
    "df[\"Credentials\"] = (df\n",
    "                     .Authors\n",
    "                     .apply(lambda x: re.findall(r\"(CFP|PhD|CFA|JD|CPA|CLU|ChFC|LLM|AIF|CRC)\", str(x)))\n",
    "                     .apply(lambda x: np.nan if len(x) == 0 else x)\n",
    "                     )"
   ]
  },
  {
   "cell_type": "markdown",
   "metadata": {},
   "source": [
    "## Group Credentials into target groups"
   ]
  },
  {
   "cell_type": "code",
   "execution_count": 17,
   "metadata": {},
   "outputs": [],
   "source": [
    "def target_grouping(x):\n",
    "    if type(x) != list:\n",
    "        return np.nan\n",
    "    elif set(x) == {\"PhD\"}:\n",
    "        return \"Academic\"\n",
    "    elif \"PhD\" in x and len(set(x)) == 2:\n",
    "        return \"Both\"\n",
    "    else:\n",
    "        return \"Practitioner\"\n",
    "\n",
    "df[\"target_grouping\"] = df.Credentials.apply(target_grouping)"
   ]
  },
  {
   "cell_type": "markdown",
   "metadata": {},
   "source": [
    "## Drop nulls"
   ]
  },
  {
   "cell_type": "code",
   "execution_count": 18,
   "metadata": {},
   "outputs": [],
   "source": [
    "df = df.dropna()"
   ]
  },
  {
   "cell_type": "code",
   "execution_count": 19,
   "metadata": {},
   "outputs": [
    {
     "data": {
      "text/html": [
       "<div>\n",
       "<style scoped>\n",
       "    .dataframe tbody tr th:only-of-type {\n",
       "        vertical-align: middle;\n",
       "    }\n",
       "\n",
       "    .dataframe tbody tr th {\n",
       "        vertical-align: top;\n",
       "    }\n",
       "\n",
       "    .dataframe thead th {\n",
       "        text-align: right;\n",
       "    }\n",
       "</style>\n",
       "<table border=\"1\" class=\"dataframe\">\n",
       "  <thead>\n",
       "    <tr style=\"text-align: right;\">\n",
       "      <th></th>\n",
       "      <th>Journal</th>\n",
       "      <th>Title</th>\n",
       "      <th>Abstract</th>\n",
       "      <th>Authors</th>\n",
       "      <th>Tax_Title_Count</th>\n",
       "      <th>Tax_Title_Binary</th>\n",
       "      <th>Tax_Abstract_Count</th>\n",
       "      <th>Tax_Abstract_Binary</th>\n",
       "      <th>Tax_Total_Count</th>\n",
       "      <th>Tax_Total_Binary</th>\n",
       "      <th>...</th>\n",
       "      <th>LLM_Count</th>\n",
       "      <th>LLM_Binary</th>\n",
       "      <th>AIF_Count</th>\n",
       "      <th>AIF_Binary</th>\n",
       "      <th>CRC_Count</th>\n",
       "      <th>CRC_Binary</th>\n",
       "      <th>pubdate</th>\n",
       "      <th>year</th>\n",
       "      <th>Credentials</th>\n",
       "      <th>target_grouping</th>\n",
       "    </tr>\n",
       "  </thead>\n",
       "  <tbody>\n",
       "    <tr>\n",
       "      <th>1</th>\n",
       "      <td>JFP</td>\n",
       "      <td>Tax Considerations for Relatively Wealthy Hous...</td>\n",
       "      <td>Reichenstein talks about households whose inco...</td>\n",
       "      <td>Reichenstein, William, PhD CFA</td>\n",
       "      <td>1</td>\n",
       "      <td>1</td>\n",
       "      <td>2</td>\n",
       "      <td>1</td>\n",
       "      <td>3</td>\n",
       "      <td>1</td>\n",
       "      <td>...</td>\n",
       "      <td>0</td>\n",
       "      <td>0</td>\n",
       "      <td>0</td>\n",
       "      <td>0</td>\n",
       "      <td>0</td>\n",
       "      <td>0</td>\n",
       "      <td>21-Dec</td>\n",
       "      <td>2021</td>\n",
       "      <td>[PhD, CFA]</td>\n",
       "      <td>Both</td>\n",
       "    </tr>\n",
       "    <tr>\n",
       "      <th>5</th>\n",
       "      <td>JFP</td>\n",
       "      <td>Using Scaffolding Learning Theory as a Framewo...</td>\n",
       "      <td>Financial professionals face client resistance...</td>\n",
       "      <td>Sterbenz, Elizabeth, LMFT;Ross, Dylan L, CFP® ...</td>\n",
       "      <td>0</td>\n",
       "      <td>0</td>\n",
       "      <td>0</td>\n",
       "      <td>0</td>\n",
       "      <td>0</td>\n",
       "      <td>0</td>\n",
       "      <td>...</td>\n",
       "      <td>0</td>\n",
       "      <td>0</td>\n",
       "      <td>0</td>\n",
       "      <td>0</td>\n",
       "      <td>0</td>\n",
       "      <td>0</td>\n",
       "      <td>21-Dec</td>\n",
       "      <td>2021</td>\n",
       "      <td>[CFP, PhD, PhD, CFP]</td>\n",
       "      <td>Both</td>\n",
       "    </tr>\n",
       "    <tr>\n",
       "      <th>8</th>\n",
       "      <td>JFP</td>\n",
       "      <td>How to Have Successful Client Conversations Ab...</td>\n",
       "      <td>Heye discusses how to have successful client c...</td>\n",
       "      <td>Heye, Chris, PhD</td>\n",
       "      <td>0</td>\n",
       "      <td>0</td>\n",
       "      <td>0</td>\n",
       "      <td>0</td>\n",
       "      <td>0</td>\n",
       "      <td>0</td>\n",
       "      <td>...</td>\n",
       "      <td>0</td>\n",
       "      <td>0</td>\n",
       "      <td>0</td>\n",
       "      <td>0</td>\n",
       "      <td>0</td>\n",
       "      <td>0</td>\n",
       "      <td>21-Dec</td>\n",
       "      <td>2021</td>\n",
       "      <td>[PhD]</td>\n",
       "      <td>Academic</td>\n",
       "    </tr>\n",
       "    <tr>\n",
       "      <th>9</th>\n",
       "      <td>JFP</td>\n",
       "      <td>To Reduce the Risk of Retirement Portfolio Exh...</td>\n",
       "      <td>Financial planners have long regarded diversif...</td>\n",
       "      <td>Walker, Philip;Sacks, Barry H, PhD JD;Sacks, S...</td>\n",
       "      <td>0</td>\n",
       "      <td>0</td>\n",
       "      <td>0</td>\n",
       "      <td>0</td>\n",
       "      <td>0</td>\n",
       "      <td>0</td>\n",
       "      <td>...</td>\n",
       "      <td>0</td>\n",
       "      <td>0</td>\n",
       "      <td>0</td>\n",
       "      <td>0</td>\n",
       "      <td>0</td>\n",
       "      <td>0</td>\n",
       "      <td>21-Dec</td>\n",
       "      <td>2021</td>\n",
       "      <td>[PhD, JD, PhD]</td>\n",
       "      <td>Both</td>\n",
       "    </tr>\n",
       "    <tr>\n",
       "      <th>10</th>\n",
       "      <td>JFP</td>\n",
       "      <td>My Career Path: Featuring TJ Burkett</td>\n",
       "      <td>Burkett shares his career path. He joined the ...</td>\n",
       "      <td>Burkett, T J, CFP®</td>\n",
       "      <td>0</td>\n",
       "      <td>0</td>\n",
       "      <td>0</td>\n",
       "      <td>0</td>\n",
       "      <td>0</td>\n",
       "      <td>0</td>\n",
       "      <td>...</td>\n",
       "      <td>0</td>\n",
       "      <td>0</td>\n",
       "      <td>0</td>\n",
       "      <td>0</td>\n",
       "      <td>0</td>\n",
       "      <td>0</td>\n",
       "      <td>21-Dec</td>\n",
       "      <td>2021</td>\n",
       "      <td>[CFP]</td>\n",
       "      <td>Practitioner</td>\n",
       "    </tr>\n",
       "  </tbody>\n",
       "</table>\n",
       "<p>5 rows × 46 columns</p>\n",
       "</div>"
      ],
      "text/plain": [
       "   Journal                                              Title  \\\n",
       "1      JFP  Tax Considerations for Relatively Wealthy Hous...   \n",
       "5      JFP  Using Scaffolding Learning Theory as a Framewo...   \n",
       "8      JFP  How to Have Successful Client Conversations Ab...   \n",
       "9      JFP  To Reduce the Risk of Retirement Portfolio Exh...   \n",
       "10     JFP               My Career Path: Featuring TJ Burkett   \n",
       "\n",
       "                                             Abstract  \\\n",
       "1   Reichenstein talks about households whose inco...   \n",
       "5   Financial professionals face client resistance...   \n",
       "8   Heye discusses how to have successful client c...   \n",
       "9   Financial planners have long regarded diversif...   \n",
       "10  Burkett shares his career path. He joined the ...   \n",
       "\n",
       "                                              Authors  Tax_Title_Count  \\\n",
       "1                      Reichenstein, William, PhD CFA                1   \n",
       "5   Sterbenz, Elizabeth, LMFT;Ross, Dylan L, CFP® ...                0   \n",
       "8                                    Heye, Chris, PhD                0   \n",
       "9   Walker, Philip;Sacks, Barry H, PhD JD;Sacks, S...                0   \n",
       "10                                 Burkett, T J, CFP®                0   \n",
       "\n",
       "    Tax_Title_Binary  Tax_Abstract_Count  Tax_Abstract_Binary  \\\n",
       "1                  1                   2                    1   \n",
       "5                  0                   0                    0   \n",
       "8                  0                   0                    0   \n",
       "9                  0                   0                    0   \n",
       "10                 0                   0                    0   \n",
       "\n",
       "    Tax_Total_Count  Tax_Total_Binary  ...  LLM_Count  LLM_Binary  AIF_Count  \\\n",
       "1                 3                 1  ...          0           0          0   \n",
       "5                 0                 0  ...          0           0          0   \n",
       "8                 0                 0  ...          0           0          0   \n",
       "9                 0                 0  ...          0           0          0   \n",
       "10                0                 0  ...          0           0          0   \n",
       "\n",
       "    AIF_Binary  CRC_Count  CRC_Binary  pubdate  year           Credentials  \\\n",
       "1            0          0           0   21-Dec  2021            [PhD, CFA]   \n",
       "5            0          0           0   21-Dec  2021  [CFP, PhD, PhD, CFP]   \n",
       "8            0          0           0   21-Dec  2021                 [PhD]   \n",
       "9            0          0           0   21-Dec  2021        [PhD, JD, PhD]   \n",
       "10           0          0           0   21-Dec  2021                 [CFP]   \n",
       "\n",
       "    target_grouping  \n",
       "1              Both  \n",
       "5              Both  \n",
       "8          Academic  \n",
       "9              Both  \n",
       "10     Practitioner  \n",
       "\n",
       "[5 rows x 46 columns]"
      ]
     },
     "execution_count": 19,
     "metadata": {},
     "output_type": "execute_result"
    }
   ],
   "source": [
    "df.head()"
   ]
  },
  {
   "cell_type": "markdown",
   "metadata": {},
   "source": [
    "## Vectorize Abstracts"
   ]
  },
  {
   "cell_type": "code",
   "execution_count": 57,
   "metadata": {},
   "outputs": [],
   "source": [
    "vectorizer = TfidfVectorizer(stop_words=\"english\", max_features=150)\n",
    "\n",
    "X = vectorizer.fit_transform(df.Abstract)"
   ]
  },
  {
   "cell_type": "code",
   "execution_count": 64,
   "metadata": {},
   "outputs": [],
   "source": [
    "top_150_words = pd.DataFrame(vectorizer.get_feature_names_out(), columns=[\"top_150_words\"])"
   ]
  },
  {
   "cell_type": "code",
   "execution_count": 66,
   "metadata": {},
   "outputs": [],
   "source": [
    "top_150_words.to_csv(\"abstract_top_150_words.csv\", index=False)"
   ]
  },
  {
   "cell_type": "markdown",
   "metadata": {},
   "source": [
    "## Analyze Target Grouping Counts"
   ]
  },
  {
   "cell_type": "code",
   "execution_count": 75,
   "metadata": {},
   "outputs": [],
   "source": [
    "target_distribution = pd.DataFrame(df.target_grouping.value_counts().rename(\"target_grouping_counts\"))"
   ]
  },
  {
   "cell_type": "code",
   "execution_count": 76,
   "metadata": {},
   "outputs": [],
   "source": [
    "target_distribution.to_csv(\"target_distribution.csv\")"
   ]
  }
 ],
 "metadata": {
  "kernelspec": {
   "display_name": "base",
   "language": "python",
   "name": "python3"
  },
  "language_info": {
   "codemirror_mode": {
    "name": "ipython",
    "version": 3
   },
   "file_extension": ".py",
   "mimetype": "text/x-python",
   "name": "python",
   "nbconvert_exporter": "python",
   "pygments_lexer": "ipython3",
   "version": "3.7.16"
  },
  "orig_nbformat": 4
 },
 "nbformat": 4,
 "nbformat_minor": 2
}
