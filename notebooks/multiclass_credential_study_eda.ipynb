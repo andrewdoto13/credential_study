{
 "cells": [
  {
   "cell_type": "markdown",
   "metadata": {},
   "source": [
    "# Credential Study EDA"
   ]
  },
  {
   "cell_type": "markdown",
   "metadata": {},
   "source": [
    "## Import Libraries"
   ]
  },
  {
   "cell_type": "code",
   "execution_count": 1,
   "metadata": {},
   "outputs": [
    {
     "name": "stdout",
     "output_type": "stream",
     "text": [
      "1.0.2\n"
     ]
    }
   ],
   "source": [
    "import numpy as np\n",
    "import pandas as pd\n",
    "import sklearn\n",
    "from sklearn.feature_extraction.text import TfidfVectorizer\n",
    "import re\n",
    "\n",
    "np.random.seed(13)\n",
    "print(sklearn.__version__)"
   ]
  },
  {
   "cell_type": "markdown",
   "metadata": {},
   "source": [
    "## Import Data"
   ]
  },
  {
   "cell_type": "code",
   "execution_count": 2,
   "metadata": {},
   "outputs": [],
   "source": [
    "df = pd.read_csv(\"../data/JFP Credential Data_All_Journals_Final.csv\")"
   ]
  },
  {
   "cell_type": "markdown",
   "metadata": {},
   "source": [
    "## Check nulls"
   ]
  },
  {
   "cell_type": "code",
   "execution_count": 3,
   "metadata": {},
   "outputs": [
    {
     "name": "stdout",
     "output_type": "stream",
     "text": [
      "<class 'pandas.core.frame.DataFrame'>\n",
      "RangeIndex: 5086 entries, 0 to 5085\n",
      "Data columns (total 9 columns):\n",
      " #   Column        Non-Null Count  Dtype \n",
      "---  ------        --------------  ----- \n",
      " 0   Title         5086 non-null   object\n",
      " 1   Abstract      3624 non-null   object\n",
      " 2   Authors       4941 non-null   object\n",
      " 3   documentType  5086 non-null   object\n",
      " 4   pub_month     4816 non-null   object\n",
      " 5   pub_year      5086 non-null   int64 \n",
      " 6   pubtitle      5086 non-null   object\n",
      " 7   subjectTerms  3651 non-null   object\n",
      " 8   Database      5086 non-null   object\n",
      "dtypes: int64(1), object(8)\n",
      "memory usage: 357.7+ KB\n"
     ]
    }
   ],
   "source": [
    "df.info()"
   ]
  },
  {
   "cell_type": "markdown",
   "metadata": {},
   "source": [
    "## Extract Credentials"
   ]
  },
  {
   "cell_type": "code",
   "execution_count": 4,
   "metadata": {},
   "outputs": [],
   "source": [
    "df[\"Credentials\"] = (df\n",
    "                     .Authors\n",
    "                     .apply(lambda x: re.findall(r\"(CFP|PhD|CFA|JD|CPA|CLU|ChFC|LLM|AIF|CRC)\", str(x)))\n",
    "                     .apply(lambda x: np.nan if len(x) == 0 else x)\n",
    "                     )"
   ]
  },
  {
   "cell_type": "markdown",
   "metadata": {},
   "source": [
    "## Group Credentials into target groups"
   ]
  },
  {
   "cell_type": "code",
   "execution_count": 5,
   "metadata": {},
   "outputs": [],
   "source": [
    "def target_grouping(x):\n",
    "    if type(x) != list:\n",
    "        return np.nan\n",
    "    elif set(x) == {\"PhD\"}:\n",
    "        return \"Academic\"\n",
    "    elif \"PhD\" in x and len(set(x)) == 2:\n",
    "        return \"Both\"\n",
    "    else:\n",
    "        return \"Practitioner\"\n",
    "\n",
    "df[\"target_grouping\"] = df.Credentials.apply(target_grouping)"
   ]
  },
  {
   "cell_type": "markdown",
   "metadata": {},
   "source": [
    "## Drop nulls"
   ]
  },
  {
   "cell_type": "code",
   "execution_count": 6,
   "metadata": {},
   "outputs": [],
   "source": [
    "df = df.dropna()"
   ]
  },
  {
   "cell_type": "code",
   "execution_count": 7,
   "metadata": {},
   "outputs": [
    {
     "data": {
      "text/html": [
       "<div>\n",
       "<style scoped>\n",
       "    .dataframe tbody tr th:only-of-type {\n",
       "        vertical-align: middle;\n",
       "    }\n",
       "\n",
       "    .dataframe tbody tr th {\n",
       "        vertical-align: top;\n",
       "    }\n",
       "\n",
       "    .dataframe thead th {\n",
       "        text-align: right;\n",
       "    }\n",
       "</style>\n",
       "<table border=\"1\" class=\"dataframe\">\n",
       "  <thead>\n",
       "    <tr style=\"text-align: right;\">\n",
       "      <th></th>\n",
       "      <th>Title</th>\n",
       "      <th>Abstract</th>\n",
       "      <th>Authors</th>\n",
       "      <th>documentType</th>\n",
       "      <th>pub_month</th>\n",
       "      <th>pub_year</th>\n",
       "      <th>pubtitle</th>\n",
       "      <th>subjectTerms</th>\n",
       "      <th>Database</th>\n",
       "      <th>Credentials</th>\n",
       "      <th>target_grouping</th>\n",
       "    </tr>\n",
       "  </thead>\n",
       "  <tbody>\n",
       "    <tr>\n",
       "      <th>1</th>\n",
       "      <td>Tax Considerations for Relatively Wealthy Hous...</td>\n",
       "      <td>Reichenstein talks about households whose inco...</td>\n",
       "      <td>Reichenstein, William, PhD CFA</td>\n",
       "      <td>Commentary</td>\n",
       "      <td>Dec</td>\n",
       "      <td>2021</td>\n",
       "      <td>Journal of Financial Planning</td>\n",
       "      <td>Households , Income taxes , Medicare</td>\n",
       "      <td>ProQuest One Academic</td>\n",
       "      <td>[PhD, CFA]</td>\n",
       "      <td>Both</td>\n",
       "    </tr>\n",
       "    <tr>\n",
       "      <th>5</th>\n",
       "      <td>Using Scaffolding Learning Theory as a Framewo...</td>\n",
       "      <td>Financial professionals face client resistance...</td>\n",
       "      <td>Sterbenz, Elizabeth, LMFT;Ross, Dylan L, CFP® ...</td>\n",
       "      <td>Feature</td>\n",
       "      <td>Dec</td>\n",
       "      <td>2021</td>\n",
       "      <td>Journal of Financial Planning</td>\n",
       "      <td>Financial planning , Theory , Methods</td>\n",
       "      <td>ProQuest One Academic</td>\n",
       "      <td>[CFP, PhD, PhD, CFP]</td>\n",
       "      <td>Both</td>\n",
       "    </tr>\n",
       "    <tr>\n",
       "      <th>8</th>\n",
       "      <td>How to Have Successful Client Conversations Ab...</td>\n",
       "      <td>Heye discusses how to have successful client c...</td>\n",
       "      <td>Heye, Chris, PhD</td>\n",
       "      <td>Commentary</td>\n",
       "      <td>Dec</td>\n",
       "      <td>2021</td>\n",
       "      <td>Journal of Financial Planning</td>\n",
       "      <td>Financial planning , Health , Client relation...</td>\n",
       "      <td>ProQuest One Academic</td>\n",
       "      <td>[PhD]</td>\n",
       "      <td>Academic</td>\n",
       "    </tr>\n",
       "    <tr>\n",
       "      <th>9</th>\n",
       "      <td>To Reduce the Risk of Retirement Portfolio Exh...</td>\n",
       "      <td>Financial planners have long regarded diversif...</td>\n",
       "      <td>Walker, Philip;Sacks, Barry H, PhD JD;Sacks, S...</td>\n",
       "      <td>Feature</td>\n",
       "      <td>Dec</td>\n",
       "      <td>2021</td>\n",
       "      <td>Journal of Financial Planning</td>\n",
       "      <td>Equity , Retirement planning , Portfolio mana...</td>\n",
       "      <td>ProQuest One Academic</td>\n",
       "      <td>[PhD, JD, PhD]</td>\n",
       "      <td>Both</td>\n",
       "    </tr>\n",
       "    <tr>\n",
       "      <th>10</th>\n",
       "      <td>My Career Path: Featuring TJ Burkett</td>\n",
       "      <td>Burkett shares his career path. He joined the ...</td>\n",
       "      <td>Burkett, T J, CFP®</td>\n",
       "      <td>Commentary</td>\n",
       "      <td>Dec</td>\n",
       "      <td>2021</td>\n",
       "      <td>Journal of Financial Planning</td>\n",
       "      <td>Financial planning , Financial services</td>\n",
       "      <td>ProQuest One Academic</td>\n",
       "      <td>[CFP]</td>\n",
       "      <td>Practitioner</td>\n",
       "    </tr>\n",
       "  </tbody>\n",
       "</table>\n",
       "</div>"
      ],
      "text/plain": [
       "                                                Title  \\\n",
       "1   Tax Considerations for Relatively Wealthy Hous...   \n",
       "5   Using Scaffolding Learning Theory as a Framewo...   \n",
       "8   How to Have Successful Client Conversations Ab...   \n",
       "9   To Reduce the Risk of Retirement Portfolio Exh...   \n",
       "10               My Career Path: Featuring TJ Burkett   \n",
       "\n",
       "                                             Abstract  \\\n",
       "1   Reichenstein talks about households whose inco...   \n",
       "5   Financial professionals face client resistance...   \n",
       "8   Heye discusses how to have successful client c...   \n",
       "9   Financial planners have long regarded diversif...   \n",
       "10  Burkett shares his career path. He joined the ...   \n",
       "\n",
       "                                              Authors documentType pub_month  \\\n",
       "1                      Reichenstein, William, PhD CFA   Commentary       Dec   \n",
       "5   Sterbenz, Elizabeth, LMFT;Ross, Dylan L, CFP® ...      Feature       Dec   \n",
       "8                                    Heye, Chris, PhD   Commentary       Dec   \n",
       "9   Walker, Philip;Sacks, Barry H, PhD JD;Sacks, S...      Feature       Dec   \n",
       "10                                 Burkett, T J, CFP®   Commentary       Dec   \n",
       "\n",
       "    pub_year                       pubtitle  \\\n",
       "1       2021  Journal of Financial Planning   \n",
       "5       2021  Journal of Financial Planning   \n",
       "8       2021  Journal of Financial Planning   \n",
       "9       2021  Journal of Financial Planning   \n",
       "10      2021  Journal of Financial Planning   \n",
       "\n",
       "                                         subjectTerms               Database  \\\n",
       "1                Households , Income taxes , Medicare  ProQuest One Academic   \n",
       "5               Financial planning , Theory , Methods  ProQuest One Academic   \n",
       "8    Financial planning , Health , Client relation...  ProQuest One Academic   \n",
       "9    Equity , Retirement planning , Portfolio mana...  ProQuest One Academic   \n",
       "10            Financial planning , Financial services  ProQuest One Academic   \n",
       "\n",
       "             Credentials target_grouping  \n",
       "1             [PhD, CFA]            Both  \n",
       "5   [CFP, PhD, PhD, CFP]            Both  \n",
       "8                  [PhD]        Academic  \n",
       "9         [PhD, JD, PhD]            Both  \n",
       "10                 [CFP]    Practitioner  "
      ]
     },
     "execution_count": 7,
     "metadata": {},
     "output_type": "execute_result"
    }
   ],
   "source": [
    "df.head()"
   ]
  },
  {
   "cell_type": "markdown",
   "metadata": {},
   "source": [
    "## Vectorize Abstracts"
   ]
  },
  {
   "cell_type": "code",
   "execution_count": 8,
   "metadata": {},
   "outputs": [],
   "source": [
    "vectorizer = TfidfVectorizer(stop_words=\"english\", max_features=150)\n",
    "\n",
    "X = vectorizer.fit_transform(df.Abstract)"
   ]
  },
  {
   "cell_type": "code",
   "execution_count": 9,
   "metadata": {},
   "outputs": [],
   "source": [
    "top_150_words = pd.DataFrame(vectorizer.get_feature_names_out(), columns=[\"top_150_words\"])"
   ]
  },
  {
   "cell_type": "code",
   "execution_count": 10,
   "metadata": {},
   "outputs": [],
   "source": [
    "top_150_words.to_csv(\"../results/abstract_top_150_words.csv\", index=False)"
   ]
  },
  {
   "cell_type": "markdown",
   "metadata": {},
   "source": [
    "## Analyze Target Grouping Counts"
   ]
  },
  {
   "cell_type": "code",
   "execution_count": 11,
   "metadata": {},
   "outputs": [],
   "source": [
    "target_distribution = pd.DataFrame(df.target_grouping.value_counts().rename(\"target_grouping_counts\"))"
   ]
  },
  {
   "cell_type": "code",
   "execution_count": 12,
   "metadata": {},
   "outputs": [],
   "source": [
    "target_distribution.to_csv(\"../results/multiclass_target_distribution.csv\")"
   ]
  }
 ],
 "metadata": {
  "kernelspec": {
   "display_name": "base",
   "language": "python",
   "name": "python3"
  },
  "language_info": {
   "codemirror_mode": {
    "name": "ipython",
    "version": 3
   },
   "file_extension": ".py",
   "mimetype": "text/x-python",
   "name": "python",
   "nbconvert_exporter": "python",
   "pygments_lexer": "ipython3",
   "version": "3.7.16"
  },
  "orig_nbformat": 4
 },
 "nbformat": 4,
 "nbformat_minor": 2
}
