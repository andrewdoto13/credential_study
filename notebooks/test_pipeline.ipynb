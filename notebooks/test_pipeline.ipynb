{
 "cells": [
  {
   "cell_type": "markdown",
   "metadata": {},
   "source": [
    "## Import Libraries"
   ]
  },
  {
   "cell_type": "code",
   "execution_count": 26,
   "metadata": {},
   "outputs": [
    {
     "name": "stdout",
     "output_type": "stream",
     "text": [
      "1.0.2\n"
     ]
    }
   ],
   "source": [
    "import numpy as np\n",
    "import pandas as pd\n",
    "import re\n",
    "\n",
    "import sklearn\n",
    "from sklearn.feature_extraction.text import TfidfVectorizer\n",
    "from sklearn.pipeline import Pipeline\n",
    "from sklearn.linear_model import LogisticRegression\n",
    "from sklearn.preprocessing import LabelEncoder, StandardScaler\n",
    "from sklearn.model_selection import train_test_split, cross_validate\n",
    "\n",
    "np.random.seed(13)\n",
    "print(sklearn.__version__)"
   ]
  },
  {
   "cell_type": "markdown",
   "metadata": {},
   "source": [
    "## Import data"
   ]
  },
  {
   "cell_type": "code",
   "execution_count": 2,
   "metadata": {},
   "outputs": [],
   "source": [
    "df = pd.read_csv(\"../data/JFP Credential Data - ProQuest v2.csv\")"
   ]
  },
  {
   "cell_type": "markdown",
   "metadata": {},
   "source": [
    "## Extract Credentials"
   ]
  },
  {
   "cell_type": "code",
   "execution_count": 3,
   "metadata": {},
   "outputs": [],
   "source": [
    "df[\"Credentials\"] = (df\n",
    "                     .Authors\n",
    "                     .apply(lambda x: re.findall(r\"(CFP|PhD|CFA|JD|CPA|CLU|ChFC|LLM|AIF|CRC)\", str(x)))\n",
    "                     .apply(lambda x: np.nan if len(x) == 0 else x)\n",
    "                     )"
   ]
  },
  {
   "cell_type": "markdown",
   "metadata": {},
   "source": [
    "## Group Credentials into target groups"
   ]
  },
  {
   "cell_type": "code",
   "execution_count": 4,
   "metadata": {},
   "outputs": [],
   "source": [
    "def target_grouping(x):\n",
    "    if type(x) != list:\n",
    "        return np.nan\n",
    "    elif set(x) == {\"PhD\"}:\n",
    "        return \"Academic\"\n",
    "    elif \"PhD\" in x and len(set(x)) == 2:\n",
    "        return \"Both\"\n",
    "    else:\n",
    "        return \"Practitioner\"\n",
    "\n",
    "df[\"target_grouping\"] = df.Credentials.apply(target_grouping)"
   ]
  },
  {
   "cell_type": "markdown",
   "metadata": {},
   "source": [
    "## Drop nulls"
   ]
  },
  {
   "cell_type": "code",
   "execution_count": 5,
   "metadata": {},
   "outputs": [],
   "source": [
    "df = df.dropna().reset_index(drop=True)"
   ]
  },
  {
   "cell_type": "code",
   "execution_count": 6,
   "metadata": {},
   "outputs": [
    {
     "data": {
      "text/html": [
       "<div>\n",
       "<style scoped>\n",
       "    .dataframe tbody tr th:only-of-type {\n",
       "        vertical-align: middle;\n",
       "    }\n",
       "\n",
       "    .dataframe tbody tr th {\n",
       "        vertical-align: top;\n",
       "    }\n",
       "\n",
       "    .dataframe thead th {\n",
       "        text-align: right;\n",
       "    }\n",
       "</style>\n",
       "<table border=\"1\" class=\"dataframe\">\n",
       "  <thead>\n",
       "    <tr style=\"text-align: right;\">\n",
       "      <th></th>\n",
       "      <th>Journal</th>\n",
       "      <th>Title</th>\n",
       "      <th>Abstract</th>\n",
       "      <th>Authors</th>\n",
       "      <th>Tax_Title_Count</th>\n",
       "      <th>Tax_Title_Binary</th>\n",
       "      <th>Tax_Abstract_Count</th>\n",
       "      <th>Tax_Abstract_Binary</th>\n",
       "      <th>Tax_Total_Count</th>\n",
       "      <th>Tax_Total_Binary</th>\n",
       "      <th>...</th>\n",
       "      <th>LLM_Count</th>\n",
       "      <th>LLM_Binary</th>\n",
       "      <th>AIF_Count</th>\n",
       "      <th>AIF_Binary</th>\n",
       "      <th>CRC_Count</th>\n",
       "      <th>CRC_Binary</th>\n",
       "      <th>pubdate</th>\n",
       "      <th>year</th>\n",
       "      <th>Credentials</th>\n",
       "      <th>target_grouping</th>\n",
       "    </tr>\n",
       "  </thead>\n",
       "  <tbody>\n",
       "    <tr>\n",
       "      <th>0</th>\n",
       "      <td>JFP</td>\n",
       "      <td>Tax Considerations for Relatively Wealthy Hous...</td>\n",
       "      <td>Reichenstein talks about households whose inco...</td>\n",
       "      <td>Reichenstein, William, PhD CFA</td>\n",
       "      <td>1</td>\n",
       "      <td>1</td>\n",
       "      <td>2</td>\n",
       "      <td>1</td>\n",
       "      <td>3</td>\n",
       "      <td>1</td>\n",
       "      <td>...</td>\n",
       "      <td>0</td>\n",
       "      <td>0</td>\n",
       "      <td>0</td>\n",
       "      <td>0</td>\n",
       "      <td>0</td>\n",
       "      <td>0</td>\n",
       "      <td>21-Dec</td>\n",
       "      <td>2021</td>\n",
       "      <td>[PhD, CFA]</td>\n",
       "      <td>Both</td>\n",
       "    </tr>\n",
       "    <tr>\n",
       "      <th>1</th>\n",
       "      <td>JFP</td>\n",
       "      <td>Using Scaffolding Learning Theory as a Framewo...</td>\n",
       "      <td>Financial professionals face client resistance...</td>\n",
       "      <td>Sterbenz, Elizabeth, LMFT;Ross, Dylan L, CFP® ...</td>\n",
       "      <td>0</td>\n",
       "      <td>0</td>\n",
       "      <td>0</td>\n",
       "      <td>0</td>\n",
       "      <td>0</td>\n",
       "      <td>0</td>\n",
       "      <td>...</td>\n",
       "      <td>0</td>\n",
       "      <td>0</td>\n",
       "      <td>0</td>\n",
       "      <td>0</td>\n",
       "      <td>0</td>\n",
       "      <td>0</td>\n",
       "      <td>21-Dec</td>\n",
       "      <td>2021</td>\n",
       "      <td>[CFP, PhD, PhD, CFP]</td>\n",
       "      <td>Both</td>\n",
       "    </tr>\n",
       "    <tr>\n",
       "      <th>2</th>\n",
       "      <td>JFP</td>\n",
       "      <td>How to Have Successful Client Conversations Ab...</td>\n",
       "      <td>Heye discusses how to have successful client c...</td>\n",
       "      <td>Heye, Chris, PhD</td>\n",
       "      <td>0</td>\n",
       "      <td>0</td>\n",
       "      <td>0</td>\n",
       "      <td>0</td>\n",
       "      <td>0</td>\n",
       "      <td>0</td>\n",
       "      <td>...</td>\n",
       "      <td>0</td>\n",
       "      <td>0</td>\n",
       "      <td>0</td>\n",
       "      <td>0</td>\n",
       "      <td>0</td>\n",
       "      <td>0</td>\n",
       "      <td>21-Dec</td>\n",
       "      <td>2021</td>\n",
       "      <td>[PhD]</td>\n",
       "      <td>Academic</td>\n",
       "    </tr>\n",
       "    <tr>\n",
       "      <th>3</th>\n",
       "      <td>JFP</td>\n",
       "      <td>To Reduce the Risk of Retirement Portfolio Exh...</td>\n",
       "      <td>Financial planners have long regarded diversif...</td>\n",
       "      <td>Walker, Philip;Sacks, Barry H, PhD JD;Sacks, S...</td>\n",
       "      <td>0</td>\n",
       "      <td>0</td>\n",
       "      <td>0</td>\n",
       "      <td>0</td>\n",
       "      <td>0</td>\n",
       "      <td>0</td>\n",
       "      <td>...</td>\n",
       "      <td>0</td>\n",
       "      <td>0</td>\n",
       "      <td>0</td>\n",
       "      <td>0</td>\n",
       "      <td>0</td>\n",
       "      <td>0</td>\n",
       "      <td>21-Dec</td>\n",
       "      <td>2021</td>\n",
       "      <td>[PhD, JD, PhD]</td>\n",
       "      <td>Both</td>\n",
       "    </tr>\n",
       "    <tr>\n",
       "      <th>4</th>\n",
       "      <td>JFP</td>\n",
       "      <td>My Career Path: Featuring TJ Burkett</td>\n",
       "      <td>Burkett shares his career path. He joined the ...</td>\n",
       "      <td>Burkett, T J, CFP®</td>\n",
       "      <td>0</td>\n",
       "      <td>0</td>\n",
       "      <td>0</td>\n",
       "      <td>0</td>\n",
       "      <td>0</td>\n",
       "      <td>0</td>\n",
       "      <td>...</td>\n",
       "      <td>0</td>\n",
       "      <td>0</td>\n",
       "      <td>0</td>\n",
       "      <td>0</td>\n",
       "      <td>0</td>\n",
       "      <td>0</td>\n",
       "      <td>21-Dec</td>\n",
       "      <td>2021</td>\n",
       "      <td>[CFP]</td>\n",
       "      <td>Practitioner</td>\n",
       "    </tr>\n",
       "  </tbody>\n",
       "</table>\n",
       "<p>5 rows × 46 columns</p>\n",
       "</div>"
      ],
      "text/plain": [
       "  Journal                                              Title  \\\n",
       "0     JFP  Tax Considerations for Relatively Wealthy Hous...   \n",
       "1     JFP  Using Scaffolding Learning Theory as a Framewo...   \n",
       "2     JFP  How to Have Successful Client Conversations Ab...   \n",
       "3     JFP  To Reduce the Risk of Retirement Portfolio Exh...   \n",
       "4     JFP               My Career Path: Featuring TJ Burkett   \n",
       "\n",
       "                                            Abstract  \\\n",
       "0  Reichenstein talks about households whose inco...   \n",
       "1  Financial professionals face client resistance...   \n",
       "2  Heye discusses how to have successful client c...   \n",
       "3  Financial planners have long regarded diversif...   \n",
       "4  Burkett shares his career path. He joined the ...   \n",
       "\n",
       "                                             Authors  Tax_Title_Count  \\\n",
       "0                     Reichenstein, William, PhD CFA                1   \n",
       "1  Sterbenz, Elizabeth, LMFT;Ross, Dylan L, CFP® ...                0   \n",
       "2                                   Heye, Chris, PhD                0   \n",
       "3  Walker, Philip;Sacks, Barry H, PhD JD;Sacks, S...                0   \n",
       "4                                 Burkett, T J, CFP®                0   \n",
       "\n",
       "   Tax_Title_Binary  Tax_Abstract_Count  Tax_Abstract_Binary  Tax_Total_Count  \\\n",
       "0                 1                   2                    1                3   \n",
       "1                 0                   0                    0                0   \n",
       "2                 0                   0                    0                0   \n",
       "3                 0                   0                    0                0   \n",
       "4                 0                   0                    0                0   \n",
       "\n",
       "   Tax_Total_Binary  ...  LLM_Count  LLM_Binary  AIF_Count  AIF_Binary  \\\n",
       "0                 1  ...          0           0          0           0   \n",
       "1                 0  ...          0           0          0           0   \n",
       "2                 0  ...          0           0          0           0   \n",
       "3                 0  ...          0           0          0           0   \n",
       "4                 0  ...          0           0          0           0   \n",
       "\n",
       "   CRC_Count  CRC_Binary  pubdate  year           Credentials  target_grouping  \n",
       "0          0           0   21-Dec  2021            [PhD, CFA]             Both  \n",
       "1          0           0   21-Dec  2021  [CFP, PhD, PhD, CFP]             Both  \n",
       "2          0           0   21-Dec  2021                 [PhD]         Academic  \n",
       "3          0           0   21-Dec  2021        [PhD, JD, PhD]             Both  \n",
       "4          0           0   21-Dec  2021                 [CFP]     Practitioner  \n",
       "\n",
       "[5 rows x 46 columns]"
      ]
     },
     "execution_count": 6,
     "metadata": {},
     "output_type": "execute_result"
    }
   ],
   "source": [
    "df.head()"
   ]
  },
  {
   "cell_type": "markdown",
   "metadata": {},
   "source": [
    "## Split Train and Target"
   ]
  },
  {
   "cell_type": "code",
   "execution_count": 11,
   "metadata": {},
   "outputs": [],
   "source": [
    "X = df.Abstract\n",
    "y = df.target_grouping"
   ]
  },
  {
   "cell_type": "markdown",
   "metadata": {},
   "source": [
    "## Encode Target"
   ]
  },
  {
   "cell_type": "code",
   "execution_count": 12,
   "metadata": {},
   "outputs": [],
   "source": [
    "encoder = LabelEncoder()\n",
    "y = encoder.fit_transform(y)"
   ]
  },
  {
   "cell_type": "markdown",
   "metadata": {},
   "source": [
    "## Create Pipeline"
   ]
  },
  {
   "cell_type": "code",
   "execution_count": 29,
   "metadata": {},
   "outputs": [],
   "source": [
    "pipeline = Pipeline([\n",
    "    (\"vectorizer\", TfidfVectorizer()),\n",
    "    (\"scaler\", StandardScaler(with_mean=False)),\n",
    "    (\"classifier\", LogisticRegression(multi_class=\"ovr\"))\n",
    "])"
   ]
  },
  {
   "cell_type": "markdown",
   "metadata": {},
   "source": [
    "## Cross Validation"
   ]
  },
  {
   "cell_type": "code",
   "execution_count": 33,
   "metadata": {},
   "outputs": [],
   "source": [
    "results = cross_validate(pipeline, X, y, scoring=[\"precision_micro\", \"precision_macro\"], cv=5, n_jobs=-1)"
   ]
  },
  {
   "cell_type": "code",
   "execution_count": 34,
   "metadata": {},
   "outputs": [
    {
     "data": {
      "text/plain": [
       "{'fit_time': array([0.40340686, 0.39232993, 0.32241297, 0.31832409, 0.38730097]),\n",
       " 'score_time': array([0.02608991, 0.02849293, 0.0234189 , 0.02388883, 0.02189994]),\n",
       " 'test_precision_micro': array([0.74261603, 0.75949367, 0.75527426, 0.76271186, 0.75847458]),\n",
       " 'test_precision_macro': array([0.53339589, 0.44444444, 0.42526158, 0.7154797 , 0.55777778])}"
      ]
     },
     "execution_count": 34,
     "metadata": {},
     "output_type": "execute_result"
    }
   ],
   "source": [
    "results"
   ]
  },
  {
   "cell_type": "code",
   "execution_count": null,
   "metadata": {},
   "outputs": [],
   "source": []
  }
 ],
 "metadata": {
  "kernelspec": {
   "display_name": "base",
   "language": "python",
   "name": "python3"
  },
  "language_info": {
   "codemirror_mode": {
    "name": "ipython",
    "version": 3
   },
   "file_extension": ".py",
   "mimetype": "text/x-python",
   "name": "python",
   "nbconvert_exporter": "python",
   "pygments_lexer": "ipython3",
   "version": "3.7.16"
  },
  "orig_nbformat": 4
 },
 "nbformat": 4,
 "nbformat_minor": 2
}
