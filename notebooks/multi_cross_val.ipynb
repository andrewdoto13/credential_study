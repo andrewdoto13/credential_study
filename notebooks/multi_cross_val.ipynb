{
 "cells": [
  {
   "cell_type": "markdown",
   "metadata": {},
   "source": [
    "## Import Libraries"
   ]
  },
  {
   "cell_type": "code",
   "execution_count": 1,
   "metadata": {},
   "outputs": [
    {
     "name": "stdout",
     "output_type": "stream",
     "text": [
      "1.6.1\n",
      "2.0.2\n",
      "2.2.3\n"
     ]
    }
   ],
   "source": [
    "import numpy as np\n",
    "import pandas as pd\n",
    "import re\n",
    "\n",
    "import sklearn\n",
    "from sklearn.feature_extraction.text import TfidfVectorizer\n",
    "from sklearn.pipeline import Pipeline\n",
    "from sklearn.linear_model import LogisticRegression\n",
    "from sklearn.tree import DecisionTreeClassifier\n",
    "from sklearn.ensemble import RandomForestClassifier, HistGradientBoostingClassifier\n",
    "from sklearn.naive_bayes import MultinomialNB\n",
    "from sklearn.preprocessing import LabelEncoder, StandardScaler\n",
    "from sklearn.model_selection import train_test_split, cross_validate\n",
    "from sklearn.metrics import classification_report\n",
    "\n",
    "np.random.seed(13)\n",
    "print(sklearn.__version__)\n",
    "print(np.__version__)\n",
    "print(pd.__version__)"
   ]
  },
  {
   "cell_type": "markdown",
   "metadata": {},
   "source": [
    "## Import data"
   ]
  },
  {
   "cell_type": "code",
   "execution_count": 2,
   "metadata": {},
   "outputs": [],
   "source": [
    "df = pd.read_csv(\"../data/JFP Credential Data_All_Journals_Final_1.2025.csv\")"
   ]
  },
  {
   "cell_type": "code",
   "execution_count": 3,
   "metadata": {},
   "outputs": [
    {
     "name": "stdout",
     "output_type": "stream",
     "text": [
      "<class 'pandas.core.frame.DataFrame'>\n",
      "RangeIndex: 5630 entries, 0 to 5629\n",
      "Data columns (total 9 columns):\n",
      " #   Column        Non-Null Count  Dtype \n",
      "---  ------        --------------  ----- \n",
      " 0   Title         5630 non-null   object\n",
      " 1   Abstract      4046 non-null   object\n",
      " 2   Authors       5466 non-null   object\n",
      " 3   documentType  5630 non-null   object\n",
      " 4   pub_month     5337 non-null   object\n",
      " 5   pub_year      5630 non-null   int64 \n",
      " 6   pubtitle      5630 non-null   object\n",
      " 7   subjectTerms  4067 non-null   object\n",
      " 8   Database      5630 non-null   object\n",
      "dtypes: int64(1), object(8)\n",
      "memory usage: 396.0+ KB\n"
     ]
    }
   ],
   "source": [
    "df.info()"
   ]
  },
  {
   "cell_type": "markdown",
   "metadata": {},
   "source": [
    "## Extract Credentials"
   ]
  },
  {
   "cell_type": "code",
   "execution_count": 4,
   "metadata": {},
   "outputs": [],
   "source": [
    "df[\"Credentials\"] = (df\n",
    "                     .Authors\n",
    "                     .apply(lambda x: re.findall(r\"(CFP|PhD|CFA|JD|CPA|CLU|ChFC|LLM|AIF|CRC)\", str(x)))\n",
    "                     .apply(lambda x: np.nan if len(x) == 0 else x)\n",
    "                     )"
   ]
  },
  {
   "cell_type": "markdown",
   "metadata": {},
   "source": [
    "## Group Credentials into target groups"
   ]
  },
  {
   "cell_type": "code",
   "execution_count": 5,
   "metadata": {},
   "outputs": [],
   "source": [
    "def target_grouping(x):\n",
    "    if type(x) != list:\n",
    "        return np.nan\n",
    "    x = set(x)\n",
    "        \n",
    "    if \"PhD\" in set(x) and len(set(x)) == 1:\n",
    "        return \"Academic\"\n",
    "    elif \"PhD\" in set(x) and len(set(x)) > 1:\n",
    "        return \"Both\"\n",
    "    else:\n",
    "        return \"Practitioner\"\n",
    "\n",
    "df[\"target_grouping\"] = df.Credentials.apply(target_grouping)"
   ]
  },
  {
   "cell_type": "markdown",
   "metadata": {},
   "source": [
    "## Drop nulls"
   ]
  },
  {
   "cell_type": "code",
   "execution_count": 6,
   "metadata": {},
   "outputs": [],
   "source": [
    "df = df.dropna(subset=[\"target_grouping\", \"Abstract\"]).reset_index(drop=True)"
   ]
  },
  {
   "cell_type": "code",
   "execution_count": 7,
   "metadata": {},
   "outputs": [
    {
     "data": {
      "text/html": [
       "<div>\n",
       "<style scoped>\n",
       "    .dataframe tbody tr th:only-of-type {\n",
       "        vertical-align: middle;\n",
       "    }\n",
       "\n",
       "    .dataframe tbody tr th {\n",
       "        vertical-align: top;\n",
       "    }\n",
       "\n",
       "    .dataframe thead th {\n",
       "        text-align: right;\n",
       "    }\n",
       "</style>\n",
       "<table border=\"1\" class=\"dataframe\">\n",
       "  <thead>\n",
       "    <tr style=\"text-align: right;\">\n",
       "      <th></th>\n",
       "      <th>Title</th>\n",
       "      <th>Abstract</th>\n",
       "      <th>Authors</th>\n",
       "      <th>documentType</th>\n",
       "      <th>pub_month</th>\n",
       "      <th>pub_year</th>\n",
       "      <th>pubtitle</th>\n",
       "      <th>subjectTerms</th>\n",
       "      <th>Database</th>\n",
       "      <th>Credentials</th>\n",
       "      <th>target_grouping</th>\n",
       "    </tr>\n",
       "  </thead>\n",
       "  <tbody>\n",
       "    <tr>\n",
       "      <th>0</th>\n",
       "      <td>How Do Commodities Fit into Client Portfolios?</td>\n",
       "      <td>The standard stock--bond portfolio mix remains...</td>\n",
       "      <td>Fink, Jason D, PhD;Fink, Kristin E, PhD</td>\n",
       "      <td>Commentary</td>\n",
       "      <td>Oct</td>\n",
       "      <td>2022</td>\n",
       "      <td>Journal of Financial Planning</td>\n",
       "      <td>Financial planning , Investment , Bonds , Sto...</td>\n",
       "      <td>ProQuest One Academic</td>\n",
       "      <td>[PhD, PhD]</td>\n",
       "      <td>Academic</td>\n",
       "    </tr>\n",
       "    <tr>\n",
       "      <th>1</th>\n",
       "      <td>The Role of Financial Planners on African Amer...</td>\n",
       "      <td>* Addressing the issue of \"wealth gap,\" partic...</td>\n",
       "      <td>Chen, Leon, PhD, FRM;Duffy, Sophia, JD, CPA;Hi...</td>\n",
       "      <td>Commentary</td>\n",
       "      <td>Nov</td>\n",
       "      <td>2022</td>\n",
       "      <td>Journal of Financial Planning</td>\n",
       "      <td>Credit , Small business , Wealth distribution...</td>\n",
       "      <td>ProQuest One Academic</td>\n",
       "      <td>[PhD, JD, CPA, PhD, CFP]</td>\n",
       "      <td>Both</td>\n",
       "    </tr>\n",
       "    <tr>\n",
       "      <th>2</th>\n",
       "      <td>How to Effectively Manage Six \"Oh Bleep\" Clien...</td>\n",
       "      <td>Managing difficult client situations is part o...</td>\n",
       "      <td>Heye, Chris, PhD</td>\n",
       "      <td>Journal Article</td>\n",
       "      <td>May</td>\n",
       "      <td>2022</td>\n",
       "      <td>Journal of Financial Planning</td>\n",
       "      <td>Interest rates , Financial management , Finan...</td>\n",
       "      <td>ProQuest One Academic</td>\n",
       "      <td>[PhD]</td>\n",
       "      <td>Academic</td>\n",
       "    </tr>\n",
       "    <tr>\n",
       "      <th>3</th>\n",
       "      <td>Inflation Uncertainty Calls for Portfolio Prot...</td>\n",
       "      <td>Inflation currently sits at 7.9 percent, havin...</td>\n",
       "      <td>Marotta, Ryann, CFP®, CFA</td>\n",
       "      <td>Journal Article</td>\n",
       "      <td>May</td>\n",
       "      <td>2022</td>\n",
       "      <td>Journal of Financial Planning</td>\n",
       "      <td>Investors , Investments , Pandemics , Monetar...</td>\n",
       "      <td>ProQuest One Academic</td>\n",
       "      <td>[CFP, CFA]</td>\n",
       "      <td>Practitioner</td>\n",
       "    </tr>\n",
       "    <tr>\n",
       "      <th>4</th>\n",
       "      <td>Financial Planners' Gray Divorce Checklist</td>\n",
       "      <td>Divorce today is less common for adults younge...</td>\n",
       "      <td>Stephenson, Angie M, CFP®, CPA/PFS</td>\n",
       "      <td>Journal Article</td>\n",
       "      <td>May</td>\n",
       "      <td>2022</td>\n",
       "      <td>Journal of Financial Planning</td>\n",
       "      <td>Divorce , Marital separation , Marriage , Tax...</td>\n",
       "      <td>ProQuest One Academic</td>\n",
       "      <td>[CFP, CPA]</td>\n",
       "      <td>Practitioner</td>\n",
       "    </tr>\n",
       "  </tbody>\n",
       "</table>\n",
       "</div>"
      ],
      "text/plain": [
       "                                               Title  \\\n",
       "0     How Do Commodities Fit into Client Portfolios?   \n",
       "1  The Role of Financial Planners on African Amer...   \n",
       "2  How to Effectively Manage Six \"Oh Bleep\" Clien...   \n",
       "3  Inflation Uncertainty Calls for Portfolio Prot...   \n",
       "4         Financial Planners' Gray Divorce Checklist   \n",
       "\n",
       "                                            Abstract  \\\n",
       "0  The standard stock--bond portfolio mix remains...   \n",
       "1  * Addressing the issue of \"wealth gap,\" partic...   \n",
       "2  Managing difficult client situations is part o...   \n",
       "3  Inflation currently sits at 7.9 percent, havin...   \n",
       "4  Divorce today is less common for adults younge...   \n",
       "\n",
       "                                             Authors      documentType  \\\n",
       "0            Fink, Jason D, PhD;Fink, Kristin E, PhD        Commentary   \n",
       "1  Chen, Leon, PhD, FRM;Duffy, Sophia, JD, CPA;Hi...        Commentary   \n",
       "2                                   Heye, Chris, PhD   Journal Article   \n",
       "3                          Marotta, Ryann, CFP®, CFA   Journal Article   \n",
       "4                 Stephenson, Angie M, CFP®, CPA/PFS   Journal Article   \n",
       "\n",
       "  pub_month  pub_year                       pubtitle  \\\n",
       "0       Oct      2022  Journal of Financial Planning   \n",
       "1       Nov      2022  Journal of Financial Planning   \n",
       "2       May      2022  Journal of Financial Planning   \n",
       "3       May      2022  Journal of Financial Planning   \n",
       "4       May      2022  Journal of Financial Planning   \n",
       "\n",
       "                                        subjectTerms               Database  \\\n",
       "0   Financial planning , Investment , Bonds , Sto...  ProQuest One Academic   \n",
       "1   Credit , Small business , Wealth distribution...  ProQuest One Academic   \n",
       "2   Interest rates , Financial management , Finan...  ProQuest One Academic   \n",
       "3   Investors , Investments , Pandemics , Monetar...  ProQuest One Academic   \n",
       "4   Divorce , Marital separation , Marriage , Tax...  ProQuest One Academic   \n",
       "\n",
       "                Credentials target_grouping  \n",
       "0                [PhD, PhD]        Academic  \n",
       "1  [PhD, JD, CPA, PhD, CFP]            Both  \n",
       "2                     [PhD]        Academic  \n",
       "3                [CFP, CFA]    Practitioner  \n",
       "4                [CFP, CPA]    Practitioner  "
      ]
     },
     "execution_count": 7,
     "metadata": {},
     "output_type": "execute_result"
    }
   ],
   "source": [
    "df.head()"
   ]
  },
  {
   "cell_type": "code",
   "execution_count": 8,
   "metadata": {},
   "outputs": [],
   "source": [
    "X = df.Abstract\n",
    "y = df.target_grouping"
   ]
  },
  {
   "cell_type": "code",
   "execution_count": 9,
   "metadata": {},
   "outputs": [
    {
     "data": {
      "text/plain": [
       "((2608,), (2608,))"
      ]
     },
     "execution_count": 9,
     "metadata": {},
     "output_type": "execute_result"
    }
   ],
   "source": [
    "X.shape, y.shape"
   ]
  },
  {
   "cell_type": "code",
   "execution_count": 10,
   "metadata": {},
   "outputs": [
    {
     "data": {
      "text/plain": [
       "target_grouping\n",
       "Practitioner    1620\n",
       "Both             570\n",
       "Academic         418\n",
       "Name: count, dtype: int64"
      ]
     },
     "execution_count": 10,
     "metadata": {},
     "output_type": "execute_result"
    }
   ],
   "source": [
    "y.value_counts()"
   ]
  },
  {
   "cell_type": "code",
   "execution_count": 11,
   "metadata": {},
   "outputs": [],
   "source": [
    "y.value_counts().to_csv(\"../results/multiclass_target_distribution.csv\")"
   ]
  },
  {
   "cell_type": "markdown",
   "metadata": {},
   "source": [
    "## Encode Target"
   ]
  },
  {
   "cell_type": "code",
   "execution_count": 12,
   "metadata": {},
   "outputs": [],
   "source": [
    "encoder = LabelEncoder()\n",
    "y = encoder.fit_transform(y)"
   ]
  },
  {
   "cell_type": "code",
   "execution_count": 13,
   "metadata": {},
   "outputs": [
    {
     "data": {
      "text/plain": [
       "array(['Academic', 'Both', 'Practitioner'], dtype=object)"
      ]
     },
     "execution_count": 13,
     "metadata": {},
     "output_type": "execute_result"
    }
   ],
   "source": [
    "encoder.classes_"
   ]
  },
  {
   "cell_type": "markdown",
   "metadata": {},
   "source": [
    "## Create Pipeline"
   ]
  },
  {
   "cell_type": "code",
   "execution_count": 14,
   "metadata": {},
   "outputs": [],
   "source": [
    "models = [LogisticRegression(class_weight=\"balanced\"), \n",
    "          DecisionTreeClassifier(class_weight=\"balanced\"), \n",
    "          RandomForestClassifier(class_weight=\"balanced\"),\n",
    "          HistGradientBoostingClassifier(class_weight=\"balanced\")]\n",
    "\n",
    "# Define the custom transformer\n",
    "class DenseTransformer:\n",
    "    def fit(self, X, y=None):\n",
    "        return self\n",
    "\n",
    "    def transform(self, X):\n",
    "        # make the array dense\n",
    "        X = X.toarray()\n",
    "        return X\n",
    "\n",
    "pipelines = [Pipeline([\n",
    "    (\"vectorizer\", TfidfVectorizer()),\n",
    "    (\"densify\", DenseTransformer()),\n",
    "    (\"classifier\", model)\n",
    "    ]) for model in models]"
   ]
  },
  {
   "cell_type": "code",
   "execution_count": 15,
   "metadata": {},
   "outputs": [
    {
     "data": {
      "text/plain": [
       "[Pipeline(steps=[('vectorizer', TfidfVectorizer()),\n",
       "                 ('densify',\n",
       "                  <__main__.DenseTransformer object at 0x7f88701488f0>),\n",
       "                 ('classifier', LogisticRegression(class_weight='balanced'))]),\n",
       " Pipeline(steps=[('vectorizer', TfidfVectorizer()),\n",
       "                 ('densify',\n",
       "                  <__main__.DenseTransformer object at 0x7f886db6b680>),\n",
       "                 ('classifier',\n",
       "                  DecisionTreeClassifier(class_weight='balanced'))]),\n",
       " Pipeline(steps=[('vectorizer', TfidfVectorizer()),\n",
       "                 ('densify',\n",
       "                  <__main__.DenseTransformer object at 0x7f886db6b470>),\n",
       "                 ('classifier',\n",
       "                  RandomForestClassifier(class_weight='balanced'))]),\n",
       " Pipeline(steps=[('vectorizer', TfidfVectorizer()),\n",
       "                 ('densify',\n",
       "                  <__main__.DenseTransformer object at 0x7f886db69d00>),\n",
       "                 ('classifier',\n",
       "                  HistGradientBoostingClassifier(class_weight='balanced'))])]"
      ]
     },
     "execution_count": 15,
     "metadata": {},
     "output_type": "execute_result"
    }
   ],
   "source": [
    "pipelines"
   ]
  },
  {
   "cell_type": "markdown",
   "metadata": {},
   "source": [
    "## Cross Validation"
   ]
  },
  {
   "cell_type": "code",
   "execution_count": 19,
   "metadata": {},
   "outputs": [],
   "source": [
    "results = [cross_validate(pipeline, X, y, scoring=[\"precision_weighted\", \"recall_weighted\", \"accuracy\", \"f1_weighted\"], cv=5, n_jobs=-1) for pipeline in pipelines]"
   ]
  },
  {
   "cell_type": "code",
   "execution_count": 22,
   "metadata": {},
   "outputs": [],
   "source": [
    "result_df = pd.DataFrame({\n",
    "    \"model\": models,\n",
    "    \"avg_precision_weighted\": [result[\"test_precision_weighted\"].mean() for result in results],\n",
    "    \"avg_recall_weighted\": [result[\"test_recall_weighted\"].mean() for result in results],\n",
    "    \"avg_f1_weighted\": [result[\"test_f1_weighted\"].mean() for result in results],\n",
    "    \"avg_accuracy\": [result[\"test_accuracy\"].mean() for result in results]\n",
    "})"
   ]
  },
  {
   "cell_type": "code",
   "execution_count": 32,
   "metadata": {},
   "outputs": [
    {
     "data": {
      "text/html": [
       "<div>\n",
       "<style scoped>\n",
       "    .dataframe tbody tr th:only-of-type {\n",
       "        vertical-align: middle;\n",
       "    }\n",
       "\n",
       "    .dataframe tbody tr th {\n",
       "        vertical-align: top;\n",
       "    }\n",
       "\n",
       "    .dataframe thead th {\n",
       "        text-align: right;\n",
       "    }\n",
       "</style>\n",
       "<table border=\"1\" class=\"dataframe\">\n",
       "  <thead>\n",
       "    <tr style=\"text-align: right;\">\n",
       "      <th></th>\n",
       "      <th>model</th>\n",
       "      <th>avg_precision_weighted</th>\n",
       "      <th>avg_recall_weighted</th>\n",
       "      <th>avg_f1_weighted</th>\n",
       "      <th>avg_accuracy</th>\n",
       "    </tr>\n",
       "  </thead>\n",
       "  <tbody>\n",
       "    <tr>\n",
       "      <th>0</th>\n",
       "      <td>LogisticRegression(class_weight='balanced')</td>\n",
       "      <td>0.703</td>\n",
       "      <td>0.696</td>\n",
       "      <td>0.698</td>\n",
       "      <td>0.696</td>\n",
       "    </tr>\n",
       "    <tr>\n",
       "      <th>1</th>\n",
       "      <td>DecisionTreeClassifier(class_weight='balanced')</td>\n",
       "      <td>0.576</td>\n",
       "      <td>0.570</td>\n",
       "      <td>0.572</td>\n",
       "      <td>0.570</td>\n",
       "    </tr>\n",
       "    <tr>\n",
       "      <th>2</th>\n",
       "      <td>(DecisionTreeClassifier(max_features='sqrt', r...</td>\n",
       "      <td>0.650</td>\n",
       "      <td>0.662</td>\n",
       "      <td>0.572</td>\n",
       "      <td>0.662</td>\n",
       "    </tr>\n",
       "    <tr>\n",
       "      <th>3</th>\n",
       "      <td>HistGradientBoostingClassifier(class_weight='b...</td>\n",
       "      <td>0.668</td>\n",
       "      <td>0.692</td>\n",
       "      <td>0.673</td>\n",
       "      <td>0.692</td>\n",
       "    </tr>\n",
       "  </tbody>\n",
       "</table>\n",
       "</div>"
      ],
      "text/plain": [
       "                                               model  avg_precision_weighted  \\\n",
       "0        LogisticRegression(class_weight='balanced')                   0.703   \n",
       "1    DecisionTreeClassifier(class_weight='balanced')                   0.576   \n",
       "2  (DecisionTreeClassifier(max_features='sqrt', r...                   0.650   \n",
       "3  HistGradientBoostingClassifier(class_weight='b...                   0.668   \n",
       "\n",
       "   avg_recall_weighted  avg_f1_weighted  avg_accuracy  \n",
       "0                0.696            0.698         0.696  \n",
       "1                0.570            0.572         0.570  \n",
       "2                0.662            0.572         0.662  \n",
       "3                0.692            0.673         0.692  "
      ]
     },
     "execution_count": 32,
     "metadata": {},
     "output_type": "execute_result"
    }
   ],
   "source": [
    "result_df.round(3)"
   ]
  },
  {
   "cell_type": "code",
   "execution_count": 24,
   "metadata": {},
   "outputs": [],
   "source": [
    "X_train, X_test, y_train, y_test = train_test_split(X, y, stratify=y)"
   ]
  },
  {
   "cell_type": "code",
   "execution_count": 25,
   "metadata": {},
   "outputs": [
    {
     "name": "stdout",
     "output_type": "stream",
     "text": [
      "Train set shape: (1956,)\n",
      "Test set shape: (652,)\n"
     ]
    }
   ],
   "source": [
    "print(f\"Train set shape: {X_train.shape}\")\n",
    "print(f\"Test set shape: {X_test.shape}\")"
   ]
  },
  {
   "cell_type": "code",
   "execution_count": 26,
   "metadata": {},
   "outputs": [
    {
     "name": "stdout",
     "output_type": "stream",
     "text": [
      "Logistic Regression Classification Report\n"
     ]
    },
    {
     "data": {
      "text/html": [
       "<div>\n",
       "<style scoped>\n",
       "    .dataframe tbody tr th:only-of-type {\n",
       "        vertical-align: middle;\n",
       "    }\n",
       "\n",
       "    .dataframe tbody tr th {\n",
       "        vertical-align: top;\n",
       "    }\n",
       "\n",
       "    .dataframe thead th {\n",
       "        text-align: right;\n",
       "    }\n",
       "</style>\n",
       "<table border=\"1\" class=\"dataframe\">\n",
       "  <thead>\n",
       "    <tr style=\"text-align: right;\">\n",
       "      <th></th>\n",
       "      <th>Academic</th>\n",
       "      <th>Both</th>\n",
       "      <th>Practitioner</th>\n",
       "      <th>accuracy</th>\n",
       "      <th>macro avg</th>\n",
       "      <th>weighted avg</th>\n",
       "    </tr>\n",
       "  </thead>\n",
       "  <tbody>\n",
       "    <tr>\n",
       "      <th>precision</th>\n",
       "      <td>0.504673</td>\n",
       "      <td>0.496855</td>\n",
       "      <td>0.852332</td>\n",
       "      <td>0.708589</td>\n",
       "      <td>0.617953</td>\n",
       "      <td>0.718924</td>\n",
       "    </tr>\n",
       "    <tr>\n",
       "      <th>recall</th>\n",
       "      <td>0.514286</td>\n",
       "      <td>0.556338</td>\n",
       "      <td>0.812346</td>\n",
       "      <td>0.708589</td>\n",
       "      <td>0.627656</td>\n",
       "      <td>0.708589</td>\n",
       "    </tr>\n",
       "    <tr>\n",
       "      <th>f1-score</th>\n",
       "      <td>0.509434</td>\n",
       "      <td>0.524917</td>\n",
       "      <td>0.831858</td>\n",
       "      <td>0.708589</td>\n",
       "      <td>0.622070</td>\n",
       "      <td>0.713085</td>\n",
       "    </tr>\n",
       "    <tr>\n",
       "      <th>support</th>\n",
       "      <td>105.000000</td>\n",
       "      <td>142.000000</td>\n",
       "      <td>405.000000</td>\n",
       "      <td>0.708589</td>\n",
       "      <td>652.000000</td>\n",
       "      <td>652.000000</td>\n",
       "    </tr>\n",
       "  </tbody>\n",
       "</table>\n",
       "</div>"
      ],
      "text/plain": [
       "             Academic        Both  Practitioner  accuracy   macro avg  \\\n",
       "precision    0.504673    0.496855      0.852332  0.708589    0.617953   \n",
       "recall       0.514286    0.556338      0.812346  0.708589    0.627656   \n",
       "f1-score     0.509434    0.524917      0.831858  0.708589    0.622070   \n",
       "support    105.000000  142.000000    405.000000  0.708589  652.000000   \n",
       "\n",
       "           weighted avg  \n",
       "precision      0.718924  \n",
       "recall         0.708589  \n",
       "f1-score       0.713085  \n",
       "support      652.000000  "
      ]
     },
     "execution_count": 26,
     "metadata": {},
     "output_type": "execute_result"
    }
   ],
   "source": [
    "lr_pipeline = pipelines[0]\n",
    "\n",
    "lr_pipeline.fit(X_train, y_train)\n",
    "\n",
    "y_pred = lr_pipeline.predict(X_test)\n",
    "\n",
    "lr_report = pd.DataFrame(classification_report(y_test, y_pred, output_dict=True, target_names=encoder.classes_))\n",
    "\n",
    "print(\"Logistic Regression Classification Report\")\n",
    "lr_report\n"
   ]
  },
  {
   "cell_type": "code",
   "execution_count": 27,
   "metadata": {},
   "outputs": [
    {
     "name": "stdout",
     "output_type": "stream",
     "text": [
      "Decision Tree Classification Report\n"
     ]
    },
    {
     "data": {
      "text/html": [
       "<div>\n",
       "<style scoped>\n",
       "    .dataframe tbody tr th:only-of-type {\n",
       "        vertical-align: middle;\n",
       "    }\n",
       "\n",
       "    .dataframe tbody tr th {\n",
       "        vertical-align: top;\n",
       "    }\n",
       "\n",
       "    .dataframe thead th {\n",
       "        text-align: right;\n",
       "    }\n",
       "</style>\n",
       "<table border=\"1\" class=\"dataframe\">\n",
       "  <thead>\n",
       "    <tr style=\"text-align: right;\">\n",
       "      <th></th>\n",
       "      <th>Academic</th>\n",
       "      <th>Both</th>\n",
       "      <th>Practitioner</th>\n",
       "      <th>accuracy</th>\n",
       "      <th>macro avg</th>\n",
       "      <th>weighted avg</th>\n",
       "    </tr>\n",
       "  </thead>\n",
       "  <tbody>\n",
       "    <tr>\n",
       "      <th>precision</th>\n",
       "      <td>0.300000</td>\n",
       "      <td>0.327586</td>\n",
       "      <td>0.714286</td>\n",
       "      <td>0.547546</td>\n",
       "      <td>0.447291</td>\n",
       "      <td>0.563348</td>\n",
       "    </tr>\n",
       "    <tr>\n",
       "      <th>recall</th>\n",
       "      <td>0.285714</td>\n",
       "      <td>0.401408</td>\n",
       "      <td>0.666667</td>\n",
       "      <td>0.547546</td>\n",
       "      <td>0.451263</td>\n",
       "      <td>0.547546</td>\n",
       "    </tr>\n",
       "    <tr>\n",
       "      <th>f1-score</th>\n",
       "      <td>0.292683</td>\n",
       "      <td>0.360759</td>\n",
       "      <td>0.689655</td>\n",
       "      <td>0.547546</td>\n",
       "      <td>0.447699</td>\n",
       "      <td>0.554095</td>\n",
       "    </tr>\n",
       "    <tr>\n",
       "      <th>support</th>\n",
       "      <td>105.000000</td>\n",
       "      <td>142.000000</td>\n",
       "      <td>405.000000</td>\n",
       "      <td>0.547546</td>\n",
       "      <td>652.000000</td>\n",
       "      <td>652.000000</td>\n",
       "    </tr>\n",
       "  </tbody>\n",
       "</table>\n",
       "</div>"
      ],
      "text/plain": [
       "             Academic        Both  Practitioner  accuracy   macro avg  \\\n",
       "precision    0.300000    0.327586      0.714286  0.547546    0.447291   \n",
       "recall       0.285714    0.401408      0.666667  0.547546    0.451263   \n",
       "f1-score     0.292683    0.360759      0.689655  0.547546    0.447699   \n",
       "support    105.000000  142.000000    405.000000  0.547546  652.000000   \n",
       "\n",
       "           weighted avg  \n",
       "precision      0.563348  \n",
       "recall         0.547546  \n",
       "f1-score       0.554095  \n",
       "support      652.000000  "
      ]
     },
     "execution_count": 27,
     "metadata": {},
     "output_type": "execute_result"
    }
   ],
   "source": [
    "dt_pipeline = pipelines[1]\n",
    "\n",
    "dt_pipeline.fit(X_train, y_train)\n",
    "\n",
    "y_pred = dt_pipeline.predict(X_test)\n",
    "\n",
    "dt_report = pd.DataFrame(classification_report(y_test, y_pred, output_dict=True, target_names=encoder.classes_))\n",
    "\n",
    "print(\"Decision Tree Classification Report\")\n",
    "dt_report"
   ]
  },
  {
   "cell_type": "code",
   "execution_count": 28,
   "metadata": {},
   "outputs": [
    {
     "name": "stdout",
     "output_type": "stream",
     "text": [
      "Random Forest Classification Report\n"
     ]
    },
    {
     "data": {
      "text/html": [
       "<div>\n",
       "<style scoped>\n",
       "    .dataframe tbody tr th:only-of-type {\n",
       "        vertical-align: middle;\n",
       "    }\n",
       "\n",
       "    .dataframe tbody tr th {\n",
       "        vertical-align: top;\n",
       "    }\n",
       "\n",
       "    .dataframe thead th {\n",
       "        text-align: right;\n",
       "    }\n",
       "</style>\n",
       "<table border=\"1\" class=\"dataframe\">\n",
       "  <thead>\n",
       "    <tr style=\"text-align: right;\">\n",
       "      <th></th>\n",
       "      <th>Academic</th>\n",
       "      <th>Both</th>\n",
       "      <th>Practitioner</th>\n",
       "      <th>accuracy</th>\n",
       "      <th>macro avg</th>\n",
       "      <th>weighted avg</th>\n",
       "    </tr>\n",
       "  </thead>\n",
       "  <tbody>\n",
       "    <tr>\n",
       "      <th>precision</th>\n",
       "      <td>1.000000</td>\n",
       "      <td>0.588235</td>\n",
       "      <td>0.672850</td>\n",
       "      <td>0.670245</td>\n",
       "      <td>0.753695</td>\n",
       "      <td>0.707107</td>\n",
       "    </tr>\n",
       "    <tr>\n",
       "      <th>recall</th>\n",
       "      <td>0.076190</td>\n",
       "      <td>0.211268</td>\n",
       "      <td>0.985185</td>\n",
       "      <td>0.670245</td>\n",
       "      <td>0.424214</td>\n",
       "      <td>0.670245</td>\n",
       "    </tr>\n",
       "    <tr>\n",
       "      <th>f1-score</th>\n",
       "      <td>0.141593</td>\n",
       "      <td>0.310881</td>\n",
       "      <td>0.799599</td>\n",
       "      <td>0.670245</td>\n",
       "      <td>0.417358</td>\n",
       "      <td>0.587193</td>\n",
       "    </tr>\n",
       "    <tr>\n",
       "      <th>support</th>\n",
       "      <td>105.000000</td>\n",
       "      <td>142.000000</td>\n",
       "      <td>405.000000</td>\n",
       "      <td>0.670245</td>\n",
       "      <td>652.000000</td>\n",
       "      <td>652.000000</td>\n",
       "    </tr>\n",
       "  </tbody>\n",
       "</table>\n",
       "</div>"
      ],
      "text/plain": [
       "             Academic        Both  Practitioner  accuracy   macro avg  \\\n",
       "precision    1.000000    0.588235      0.672850  0.670245    0.753695   \n",
       "recall       0.076190    0.211268      0.985185  0.670245    0.424214   \n",
       "f1-score     0.141593    0.310881      0.799599  0.670245    0.417358   \n",
       "support    105.000000  142.000000    405.000000  0.670245  652.000000   \n",
       "\n",
       "           weighted avg  \n",
       "precision      0.707107  \n",
       "recall         0.670245  \n",
       "f1-score       0.587193  \n",
       "support      652.000000  "
      ]
     },
     "execution_count": 28,
     "metadata": {},
     "output_type": "execute_result"
    }
   ],
   "source": [
    "rf_pipeline = pipelines[2]\n",
    "\n",
    "rf_pipeline.fit(X_train, y_train)\n",
    "\n",
    "y_pred = rf_pipeline.predict(X_test)\n",
    "\n",
    "rf_report = pd.DataFrame(classification_report(y_test, y_pred, output_dict=True, target_names=encoder.classes_))\n",
    "\n",
    "print(\"Random Forest Classification Report\")\n",
    "rf_report"
   ]
  },
  {
   "cell_type": "code",
   "execution_count": 30,
   "metadata": {},
   "outputs": [
    {
     "name": "stdout",
     "output_type": "stream",
     "text": [
      "Gradient Boosted Trees Classification Report\n"
     ]
    },
    {
     "data": {
      "text/html": [
       "<div>\n",
       "<style scoped>\n",
       "    .dataframe tbody tr th:only-of-type {\n",
       "        vertical-align: middle;\n",
       "    }\n",
       "\n",
       "    .dataframe tbody tr th {\n",
       "        vertical-align: top;\n",
       "    }\n",
       "\n",
       "    .dataframe thead th {\n",
       "        text-align: right;\n",
       "    }\n",
       "</style>\n",
       "<table border=\"1\" class=\"dataframe\">\n",
       "  <thead>\n",
       "    <tr style=\"text-align: right;\">\n",
       "      <th></th>\n",
       "      <th>Academic</th>\n",
       "      <th>Both</th>\n",
       "      <th>Practitioner</th>\n",
       "      <th>accuracy</th>\n",
       "      <th>macro avg</th>\n",
       "      <th>weighted avg</th>\n",
       "    </tr>\n",
       "  </thead>\n",
       "  <tbody>\n",
       "    <tr>\n",
       "      <th>precision</th>\n",
       "      <td>0.547945</td>\n",
       "      <td>0.551724</td>\n",
       "      <td>0.781857</td>\n",
       "      <td>0.714724</td>\n",
       "      <td>0.627176</td>\n",
       "      <td>0.694066</td>\n",
       "    </tr>\n",
       "    <tr>\n",
       "      <th>recall</th>\n",
       "      <td>0.380952</td>\n",
       "      <td>0.450704</td>\n",
       "      <td>0.893827</td>\n",
       "      <td>0.714724</td>\n",
       "      <td>0.575161</td>\n",
       "      <td>0.714724</td>\n",
       "    </tr>\n",
       "    <tr>\n",
       "      <th>f1-score</th>\n",
       "      <td>0.449438</td>\n",
       "      <td>0.496124</td>\n",
       "      <td>0.834101</td>\n",
       "      <td>0.714724</td>\n",
       "      <td>0.593221</td>\n",
       "      <td>0.698546</td>\n",
       "    </tr>\n",
       "    <tr>\n",
       "      <th>support</th>\n",
       "      <td>105.000000</td>\n",
       "      <td>142.000000</td>\n",
       "      <td>405.000000</td>\n",
       "      <td>0.714724</td>\n",
       "      <td>652.000000</td>\n",
       "      <td>652.000000</td>\n",
       "    </tr>\n",
       "  </tbody>\n",
       "</table>\n",
       "</div>"
      ],
      "text/plain": [
       "             Academic        Both  Practitioner  accuracy   macro avg  \\\n",
       "precision    0.547945    0.551724      0.781857  0.714724    0.627176   \n",
       "recall       0.380952    0.450704      0.893827  0.714724    0.575161   \n",
       "f1-score     0.449438    0.496124      0.834101  0.714724    0.593221   \n",
       "support    105.000000  142.000000    405.000000  0.714724  652.000000   \n",
       "\n",
       "           weighted avg  \n",
       "precision      0.694066  \n",
       "recall         0.714724  \n",
       "f1-score       0.698546  \n",
       "support      652.000000  "
      ]
     },
     "execution_count": 30,
     "metadata": {},
     "output_type": "execute_result"
    }
   ],
   "source": [
    "gbt_pipeline = pipelines[3]\n",
    "\n",
    "gbt_pipeline.fit(X_train, y_train)\n",
    "\n",
    "y_pred = gbt_pipeline.predict(X_test)\n",
    "\n",
    "gbt_report = pd.DataFrame(classification_report(y_test, y_pred, output_dict=True, target_names=encoder.classes_))\n",
    "\n",
    "print(\"Gradient Boosted Trees Classification Report\")\n",
    "gbt_report"
   ]
  },
  {
   "cell_type": "markdown",
   "metadata": {},
   "source": [
    "## Save Results"
   ]
  },
  {
   "cell_type": "code",
   "execution_count": 31,
   "metadata": {},
   "outputs": [],
   "source": [
    "result_df.to_csv(\"../results/multiclass_baseline_model_results.csv\", index=False)"
   ]
  }
 ],
 "metadata": {
  "kernelspec": {
   "display_name": "Python 3",
   "language": "python",
   "name": "python3"
  },
  "language_info": {
   "codemirror_mode": {
    "name": "ipython",
    "version": 3
   },
   "file_extension": ".py",
   "mimetype": "text/x-python",
   "name": "python",
   "nbconvert_exporter": "python",
   "pygments_lexer": "ipython3",
   "version": "3.12.3"
  },
  "orig_nbformat": 4
 },
 "nbformat": 4,
 "nbformat_minor": 2
}
